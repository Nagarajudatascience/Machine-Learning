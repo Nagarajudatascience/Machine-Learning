{
  "nbformat": 4,
  "nbformat_minor": 0,
  "metadata": {
    "colab": {
      "name": "Bike Rental count Predictions H2O Auto ML.ipynb",
      "provenance": [],
      "collapsed_sections": [],
      "mount_file_id": "15IA43j4UTbQzRJhNHX8gI6D9D4wIXnNg",
      "authorship_tag": "ABX9TyN1cKOt4q5OD2EJ8lMMVhRE",
      "include_colab_link": true
    },
    "kernelspec": {
      "name": "python3",
      "display_name": "Python 3"
    },
    "language_info": {
      "name": "python"
    }
  },
  "cells": [
    {
      "cell_type": "markdown",
      "metadata": {
        "id": "view-in-github",
        "colab_type": "text"
      },
      "source": [
        "<a href=\"https://colab.research.google.com/github/Nagarajudatascience/Machine-Learning/blob/main/Bike_Rental_count_Predictions_H2O_Auto_ML.ipynb\" target=\"_parent\"><img src=\"https://colab.research.google.com/assets/colab-badge.svg\" alt=\"Open In Colab\"/></a>"
      ]
    },
    {
      "cell_type": "markdown",
      "source": [
        "# Back Ground of project\n"
      ],
      "metadata": {
        "id": "iDwBDyt0_Ujx"
      }
    },
    {
      "cell_type": "markdown",
      "source": [
        "# Bike sharing systems are new generation of traditional bike rentals where whole process from membership, rental and return back has become automatic. Through these systems, user is able to easily rent a bike from a particular position and return back at another position. Currently, there are about over 500 bike-sharing programs around the world which is composed of over 500 thousands bicycles. Today, there exists great interest in these systems due to their important role in traffic, environmental and health issues."
      ],
      "metadata": {
        "id": "6xEW48qb_qUT"
      }
    },
    {
      "cell_type": "markdown",
      "source": [
        "# Understanding dataset"
      ],
      "metadata": {
        "id": "VhTZNVwoAAQ7"
      }
    },
    {
      "cell_type": "markdown",
      "source": [
        "- instant: record index\n",
        "- dteday : date\n",
        "- season : season (1:springer, 2:summer, 3:fall, 4:winter)\n",
        "- yr : year (0: 2011, 1:2012)\n",
        "- mnth : month ( 1 to 12)\n",
        "- hr : hour (0 to 23)\n",
        "- holiday : weather day is holiday or not (extracted from http://dchr.dc.gov/page/holiday-schedule)\n",
        "- weekday : day of the week\n",
        "- workingday : if day is neither weekend nor holiday is 1, otherwise is 0.\n",
        "+ weathersit : \n",
        "    - 1: Clear, Few clouds, Partly cloudy, Partly cloudy\n",
        "    - 2: Mist + Cloudy, Mist + Broken clouds, Mist + Few clouds, Mist\n",
        "    - 3: Light Snow, Light Rain + Thunderstorm + Scattered clouds, Light Rain + Scattered clouds\n",
        "    - 4: Heavy Rain + Ice Pallets + Thunderstorm + Mist, Snow + Fog\n",
        "- temp : Normalized temperature in Celsius. The values are divided to 41 (max)\n",
        "- atemp: Normalized feeling temperature in Celsius. The values are divided to 50 (max)\n",
        "- hum: Normalized humidity. The values are divided to 100 (max)\n",
        "- windspeed: Normalized wind speed. The values are divided to 67 (max)\n",
        "- casual: count of casual users\n",
        "- registered: count of registered users\n",
        "- cnt: count of total rental bikes including both casual and registered"
      ],
      "metadata": {
        "id": "QiwYcVqcAFAt"
      }
    },
    {
      "cell_type": "markdown",
      "source": [
        "# **1. Import Libraries**"
      ],
      "metadata": {
        "id": "WUZVEkF7AaS-"
      }
    },
    {
      "cell_type": "code",
      "source": [
        "import numpy as np\n",
        "import pandas as pd\n",
        "import seaborn as sns\n",
        "import matplotlib.pyplot as plt\n",
        "from sklearn.model_selection import train_test_split\n",
        "%matplotlib inline\n"
      ],
      "metadata": {
        "id": "Esn25HU1AoW5"
      },
      "execution_count": null,
      "outputs": []
    },
    {
      "cell_type": "markdown",
      "source": [
        "# **2. Loading the Dataset**"
      ],
      "metadata": {
        "id": "fne9JZvnBhSU"
      }
    },
    {
      "cell_type": "code",
      "source": [
        "df = pd.read_csv('/content/drive/MyDrive/Source files/Bike Rental Predictions/Project Code and Files/day.csv')"
      ],
      "metadata": {
        "id": "pQOEWCwxBYZQ"
      },
      "execution_count": null,
      "outputs": []
    },
    {
      "cell_type": "code",
      "source": [
        "df.head()"
      ],
      "metadata": {
        "colab": {
          "base_uri": "https://localhost:8080/",
          "height": 250
        },
        "id": "eLav7EULCC_x",
        "outputId": "e343cb23-87ba-4098-c1d2-abb0b11af83a"
      },
      "execution_count": null,
      "outputs": [
        {
          "output_type": "execute_result",
          "data": {
            "text/plain": [
              "   instant      dteday  season  yr  mnth  holiday  weekday  workingday  \\\n",
              "0        1  2011-01-01       1   0     1        0        6           0   \n",
              "1        2  2011-01-02       1   0     1        0        0           0   \n",
              "2        3  2011-01-03       1   0     1        0        1           1   \n",
              "3        4  2011-01-04       1   0     1        0        2           1   \n",
              "4        5  2011-01-05       1   0     1        0        3           1   \n",
              "\n",
              "   weathersit      temp     atemp       hum  windspeed  casual  registered  \\\n",
              "0           2  0.344167  0.363625  0.805833   0.160446     331         654   \n",
              "1           2  0.363478  0.353739  0.696087   0.248539     131         670   \n",
              "2           1  0.196364  0.189405  0.437273   0.248309     120        1229   \n",
              "3           1  0.200000  0.212122  0.590435   0.160296     108        1454   \n",
              "4           1  0.226957  0.229270  0.436957   0.186900      82        1518   \n",
              "\n",
              "    cnt  \n",
              "0   985  \n",
              "1   801  \n",
              "2  1349  \n",
              "3  1562  \n",
              "4  1600  "
            ],
            "text/html": [
              "\n",
              "  <div id=\"df-ab6cac8b-e96f-4f02-a00b-478f59d186bf\">\n",
              "    <div class=\"colab-df-container\">\n",
              "      <div>\n",
              "<style scoped>\n",
              "    .dataframe tbody tr th:only-of-type {\n",
              "        vertical-align: middle;\n",
              "    }\n",
              "\n",
              "    .dataframe tbody tr th {\n",
              "        vertical-align: top;\n",
              "    }\n",
              "\n",
              "    .dataframe thead th {\n",
              "        text-align: right;\n",
              "    }\n",
              "</style>\n",
              "<table border=\"1\" class=\"dataframe\">\n",
              "  <thead>\n",
              "    <tr style=\"text-align: right;\">\n",
              "      <th></th>\n",
              "      <th>instant</th>\n",
              "      <th>dteday</th>\n",
              "      <th>season</th>\n",
              "      <th>yr</th>\n",
              "      <th>mnth</th>\n",
              "      <th>holiday</th>\n",
              "      <th>weekday</th>\n",
              "      <th>workingday</th>\n",
              "      <th>weathersit</th>\n",
              "      <th>temp</th>\n",
              "      <th>atemp</th>\n",
              "      <th>hum</th>\n",
              "      <th>windspeed</th>\n",
              "      <th>casual</th>\n",
              "      <th>registered</th>\n",
              "      <th>cnt</th>\n",
              "    </tr>\n",
              "  </thead>\n",
              "  <tbody>\n",
              "    <tr>\n",
              "      <th>0</th>\n",
              "      <td>1</td>\n",
              "      <td>2011-01-01</td>\n",
              "      <td>1</td>\n",
              "      <td>0</td>\n",
              "      <td>1</td>\n",
              "      <td>0</td>\n",
              "      <td>6</td>\n",
              "      <td>0</td>\n",
              "      <td>2</td>\n",
              "      <td>0.344167</td>\n",
              "      <td>0.363625</td>\n",
              "      <td>0.805833</td>\n",
              "      <td>0.160446</td>\n",
              "      <td>331</td>\n",
              "      <td>654</td>\n",
              "      <td>985</td>\n",
              "    </tr>\n",
              "    <tr>\n",
              "      <th>1</th>\n",
              "      <td>2</td>\n",
              "      <td>2011-01-02</td>\n",
              "      <td>1</td>\n",
              "      <td>0</td>\n",
              "      <td>1</td>\n",
              "      <td>0</td>\n",
              "      <td>0</td>\n",
              "      <td>0</td>\n",
              "      <td>2</td>\n",
              "      <td>0.363478</td>\n",
              "      <td>0.353739</td>\n",
              "      <td>0.696087</td>\n",
              "      <td>0.248539</td>\n",
              "      <td>131</td>\n",
              "      <td>670</td>\n",
              "      <td>801</td>\n",
              "    </tr>\n",
              "    <tr>\n",
              "      <th>2</th>\n",
              "      <td>3</td>\n",
              "      <td>2011-01-03</td>\n",
              "      <td>1</td>\n",
              "      <td>0</td>\n",
              "      <td>1</td>\n",
              "      <td>0</td>\n",
              "      <td>1</td>\n",
              "      <td>1</td>\n",
              "      <td>1</td>\n",
              "      <td>0.196364</td>\n",
              "      <td>0.189405</td>\n",
              "      <td>0.437273</td>\n",
              "      <td>0.248309</td>\n",
              "      <td>120</td>\n",
              "      <td>1229</td>\n",
              "      <td>1349</td>\n",
              "    </tr>\n",
              "    <tr>\n",
              "      <th>3</th>\n",
              "      <td>4</td>\n",
              "      <td>2011-01-04</td>\n",
              "      <td>1</td>\n",
              "      <td>0</td>\n",
              "      <td>1</td>\n",
              "      <td>0</td>\n",
              "      <td>2</td>\n",
              "      <td>1</td>\n",
              "      <td>1</td>\n",
              "      <td>0.200000</td>\n",
              "      <td>0.212122</td>\n",
              "      <td>0.590435</td>\n",
              "      <td>0.160296</td>\n",
              "      <td>108</td>\n",
              "      <td>1454</td>\n",
              "      <td>1562</td>\n",
              "    </tr>\n",
              "    <tr>\n",
              "      <th>4</th>\n",
              "      <td>5</td>\n",
              "      <td>2011-01-05</td>\n",
              "      <td>1</td>\n",
              "      <td>0</td>\n",
              "      <td>1</td>\n",
              "      <td>0</td>\n",
              "      <td>3</td>\n",
              "      <td>1</td>\n",
              "      <td>1</td>\n",
              "      <td>0.226957</td>\n",
              "      <td>0.229270</td>\n",
              "      <td>0.436957</td>\n",
              "      <td>0.186900</td>\n",
              "      <td>82</td>\n",
              "      <td>1518</td>\n",
              "      <td>1600</td>\n",
              "    </tr>\n",
              "  </tbody>\n",
              "</table>\n",
              "</div>\n",
              "      <button class=\"colab-df-convert\" onclick=\"convertToInteractive('df-ab6cac8b-e96f-4f02-a00b-478f59d186bf')\"\n",
              "              title=\"Convert this dataframe to an interactive table.\"\n",
              "              style=\"display:none;\">\n",
              "        \n",
              "  <svg xmlns=\"http://www.w3.org/2000/svg\" height=\"24px\"viewBox=\"0 0 24 24\"\n",
              "       width=\"24px\">\n",
              "    <path d=\"M0 0h24v24H0V0z\" fill=\"none\"/>\n",
              "    <path d=\"M18.56 5.44l.94 2.06.94-2.06 2.06-.94-2.06-.94-.94-2.06-.94 2.06-2.06.94zm-11 1L8.5 8.5l.94-2.06 2.06-.94-2.06-.94L8.5 2.5l-.94 2.06-2.06.94zm10 10l.94 2.06.94-2.06 2.06-.94-2.06-.94-.94-2.06-.94 2.06-2.06.94z\"/><path d=\"M17.41 7.96l-1.37-1.37c-.4-.4-.92-.59-1.43-.59-.52 0-1.04.2-1.43.59L10.3 9.45l-7.72 7.72c-.78.78-.78 2.05 0 2.83L4 21.41c.39.39.9.59 1.41.59.51 0 1.02-.2 1.41-.59l7.78-7.78 2.81-2.81c.8-.78.8-2.07 0-2.86zM5.41 20L4 18.59l7.72-7.72 1.47 1.35L5.41 20z\"/>\n",
              "  </svg>\n",
              "      </button>\n",
              "      \n",
              "  <style>\n",
              "    .colab-df-container {\n",
              "      display:flex;\n",
              "      flex-wrap:wrap;\n",
              "      gap: 12px;\n",
              "    }\n",
              "\n",
              "    .colab-df-convert {\n",
              "      background-color: #E8F0FE;\n",
              "      border: none;\n",
              "      border-radius: 50%;\n",
              "      cursor: pointer;\n",
              "      display: none;\n",
              "      fill: #1967D2;\n",
              "      height: 32px;\n",
              "      padding: 0 0 0 0;\n",
              "      width: 32px;\n",
              "    }\n",
              "\n",
              "    .colab-df-convert:hover {\n",
              "      background-color: #E2EBFA;\n",
              "      box-shadow: 0px 1px 2px rgba(60, 64, 67, 0.3), 0px 1px 3px 1px rgba(60, 64, 67, 0.15);\n",
              "      fill: #174EA6;\n",
              "    }\n",
              "\n",
              "    [theme=dark] .colab-df-convert {\n",
              "      background-color: #3B4455;\n",
              "      fill: #D2E3FC;\n",
              "    }\n",
              "\n",
              "    [theme=dark] .colab-df-convert:hover {\n",
              "      background-color: #434B5C;\n",
              "      box-shadow: 0px 1px 3px 1px rgba(0, 0, 0, 0.15);\n",
              "      filter: drop-shadow(0px 1px 2px rgba(0, 0, 0, 0.3));\n",
              "      fill: #FFFFFF;\n",
              "    }\n",
              "  </style>\n",
              "\n",
              "      <script>\n",
              "        const buttonEl =\n",
              "          document.querySelector('#df-ab6cac8b-e96f-4f02-a00b-478f59d186bf button.colab-df-convert');\n",
              "        buttonEl.style.display =\n",
              "          google.colab.kernel.accessAllowed ? 'block' : 'none';\n",
              "\n",
              "        async function convertToInteractive(key) {\n",
              "          const element = document.querySelector('#df-ab6cac8b-e96f-4f02-a00b-478f59d186bf');\n",
              "          const dataTable =\n",
              "            await google.colab.kernel.invokeFunction('convertToInteractive',\n",
              "                                                     [key], {});\n",
              "          if (!dataTable) return;\n",
              "\n",
              "          const docLinkHtml = 'Like what you see? Visit the ' +\n",
              "            '<a target=\"_blank\" href=https://colab.research.google.com/notebooks/data_table.ipynb>data table notebook</a>'\n",
              "            + ' to learn more about interactive tables.';\n",
              "          element.innerHTML = '';\n",
              "          dataTable['output_type'] = 'display_data';\n",
              "          await google.colab.output.renderOutput(dataTable, element);\n",
              "          const docLink = document.createElement('div');\n",
              "          docLink.innerHTML = docLinkHtml;\n",
              "          element.appendChild(docLink);\n",
              "        }\n",
              "      </script>\n",
              "    </div>\n",
              "  </div>\n",
              "  "
            ]
          },
          "metadata": {},
          "execution_count": 3
        }
      ]
    },
    {
      "cell_type": "code",
      "source": [
        "df.tail()"
      ],
      "metadata": {
        "colab": {
          "base_uri": "https://localhost:8080/",
          "height": 250
        },
        "id": "zaPDhKr0CGkF",
        "outputId": "c473caee-d2e9-43db-eb2d-7e92d8863c6c"
      },
      "execution_count": null,
      "outputs": [
        {
          "output_type": "execute_result",
          "data": {
            "text/plain": [
              "     instant      dteday  season  yr  mnth  holiday  weekday  workingday  \\\n",
              "726      727  2012-12-27       1   1    12        0        4           1   \n",
              "727      728  2012-12-28       1   1    12        0        5           1   \n",
              "728      729  2012-12-29       1   1    12        0        6           0   \n",
              "729      730  2012-12-30       1   1    12        0        0           0   \n",
              "730      731  2012-12-31       1   1    12        0        1           1   \n",
              "\n",
              "     weathersit      temp     atemp       hum  windspeed  casual  registered  \\\n",
              "726           2  0.254167  0.226642  0.652917   0.350133     247        1867   \n",
              "727           2  0.253333  0.255046  0.590000   0.155471     644        2451   \n",
              "728           2  0.253333  0.242400  0.752917   0.124383     159        1182   \n",
              "729           1  0.255833  0.231700  0.483333   0.350754     364        1432   \n",
              "730           2  0.215833  0.223487  0.577500   0.154846     439        2290   \n",
              "\n",
              "      cnt  \n",
              "726  2114  \n",
              "727  3095  \n",
              "728  1341  \n",
              "729  1796  \n",
              "730  2729  "
            ],
            "text/html": [
              "\n",
              "  <div id=\"df-52c06be0-0e96-4506-9a67-de73966acb75\">\n",
              "    <div class=\"colab-df-container\">\n",
              "      <div>\n",
              "<style scoped>\n",
              "    .dataframe tbody tr th:only-of-type {\n",
              "        vertical-align: middle;\n",
              "    }\n",
              "\n",
              "    .dataframe tbody tr th {\n",
              "        vertical-align: top;\n",
              "    }\n",
              "\n",
              "    .dataframe thead th {\n",
              "        text-align: right;\n",
              "    }\n",
              "</style>\n",
              "<table border=\"1\" class=\"dataframe\">\n",
              "  <thead>\n",
              "    <tr style=\"text-align: right;\">\n",
              "      <th></th>\n",
              "      <th>instant</th>\n",
              "      <th>dteday</th>\n",
              "      <th>season</th>\n",
              "      <th>yr</th>\n",
              "      <th>mnth</th>\n",
              "      <th>holiday</th>\n",
              "      <th>weekday</th>\n",
              "      <th>workingday</th>\n",
              "      <th>weathersit</th>\n",
              "      <th>temp</th>\n",
              "      <th>atemp</th>\n",
              "      <th>hum</th>\n",
              "      <th>windspeed</th>\n",
              "      <th>casual</th>\n",
              "      <th>registered</th>\n",
              "      <th>cnt</th>\n",
              "    </tr>\n",
              "  </thead>\n",
              "  <tbody>\n",
              "    <tr>\n",
              "      <th>726</th>\n",
              "      <td>727</td>\n",
              "      <td>2012-12-27</td>\n",
              "      <td>1</td>\n",
              "      <td>1</td>\n",
              "      <td>12</td>\n",
              "      <td>0</td>\n",
              "      <td>4</td>\n",
              "      <td>1</td>\n",
              "      <td>2</td>\n",
              "      <td>0.254167</td>\n",
              "      <td>0.226642</td>\n",
              "      <td>0.652917</td>\n",
              "      <td>0.350133</td>\n",
              "      <td>247</td>\n",
              "      <td>1867</td>\n",
              "      <td>2114</td>\n",
              "    </tr>\n",
              "    <tr>\n",
              "      <th>727</th>\n",
              "      <td>728</td>\n",
              "      <td>2012-12-28</td>\n",
              "      <td>1</td>\n",
              "      <td>1</td>\n",
              "      <td>12</td>\n",
              "      <td>0</td>\n",
              "      <td>5</td>\n",
              "      <td>1</td>\n",
              "      <td>2</td>\n",
              "      <td>0.253333</td>\n",
              "      <td>0.255046</td>\n",
              "      <td>0.590000</td>\n",
              "      <td>0.155471</td>\n",
              "      <td>644</td>\n",
              "      <td>2451</td>\n",
              "      <td>3095</td>\n",
              "    </tr>\n",
              "    <tr>\n",
              "      <th>728</th>\n",
              "      <td>729</td>\n",
              "      <td>2012-12-29</td>\n",
              "      <td>1</td>\n",
              "      <td>1</td>\n",
              "      <td>12</td>\n",
              "      <td>0</td>\n",
              "      <td>6</td>\n",
              "      <td>0</td>\n",
              "      <td>2</td>\n",
              "      <td>0.253333</td>\n",
              "      <td>0.242400</td>\n",
              "      <td>0.752917</td>\n",
              "      <td>0.124383</td>\n",
              "      <td>159</td>\n",
              "      <td>1182</td>\n",
              "      <td>1341</td>\n",
              "    </tr>\n",
              "    <tr>\n",
              "      <th>729</th>\n",
              "      <td>730</td>\n",
              "      <td>2012-12-30</td>\n",
              "      <td>1</td>\n",
              "      <td>1</td>\n",
              "      <td>12</td>\n",
              "      <td>0</td>\n",
              "      <td>0</td>\n",
              "      <td>0</td>\n",
              "      <td>1</td>\n",
              "      <td>0.255833</td>\n",
              "      <td>0.231700</td>\n",
              "      <td>0.483333</td>\n",
              "      <td>0.350754</td>\n",
              "      <td>364</td>\n",
              "      <td>1432</td>\n",
              "      <td>1796</td>\n",
              "    </tr>\n",
              "    <tr>\n",
              "      <th>730</th>\n",
              "      <td>731</td>\n",
              "      <td>2012-12-31</td>\n",
              "      <td>1</td>\n",
              "      <td>1</td>\n",
              "      <td>12</td>\n",
              "      <td>0</td>\n",
              "      <td>1</td>\n",
              "      <td>1</td>\n",
              "      <td>2</td>\n",
              "      <td>0.215833</td>\n",
              "      <td>0.223487</td>\n",
              "      <td>0.577500</td>\n",
              "      <td>0.154846</td>\n",
              "      <td>439</td>\n",
              "      <td>2290</td>\n",
              "      <td>2729</td>\n",
              "    </tr>\n",
              "  </tbody>\n",
              "</table>\n",
              "</div>\n",
              "      <button class=\"colab-df-convert\" onclick=\"convertToInteractive('df-52c06be0-0e96-4506-9a67-de73966acb75')\"\n",
              "              title=\"Convert this dataframe to an interactive table.\"\n",
              "              style=\"display:none;\">\n",
              "        \n",
              "  <svg xmlns=\"http://www.w3.org/2000/svg\" height=\"24px\"viewBox=\"0 0 24 24\"\n",
              "       width=\"24px\">\n",
              "    <path d=\"M0 0h24v24H0V0z\" fill=\"none\"/>\n",
              "    <path d=\"M18.56 5.44l.94 2.06.94-2.06 2.06-.94-2.06-.94-.94-2.06-.94 2.06-2.06.94zm-11 1L8.5 8.5l.94-2.06 2.06-.94-2.06-.94L8.5 2.5l-.94 2.06-2.06.94zm10 10l.94 2.06.94-2.06 2.06-.94-2.06-.94-.94-2.06-.94 2.06-2.06.94z\"/><path d=\"M17.41 7.96l-1.37-1.37c-.4-.4-.92-.59-1.43-.59-.52 0-1.04.2-1.43.59L10.3 9.45l-7.72 7.72c-.78.78-.78 2.05 0 2.83L4 21.41c.39.39.9.59 1.41.59.51 0 1.02-.2 1.41-.59l7.78-7.78 2.81-2.81c.8-.78.8-2.07 0-2.86zM5.41 20L4 18.59l7.72-7.72 1.47 1.35L5.41 20z\"/>\n",
              "  </svg>\n",
              "      </button>\n",
              "      \n",
              "  <style>\n",
              "    .colab-df-container {\n",
              "      display:flex;\n",
              "      flex-wrap:wrap;\n",
              "      gap: 12px;\n",
              "    }\n",
              "\n",
              "    .colab-df-convert {\n",
              "      background-color: #E8F0FE;\n",
              "      border: none;\n",
              "      border-radius: 50%;\n",
              "      cursor: pointer;\n",
              "      display: none;\n",
              "      fill: #1967D2;\n",
              "      height: 32px;\n",
              "      padding: 0 0 0 0;\n",
              "      width: 32px;\n",
              "    }\n",
              "\n",
              "    .colab-df-convert:hover {\n",
              "      background-color: #E2EBFA;\n",
              "      box-shadow: 0px 1px 2px rgba(60, 64, 67, 0.3), 0px 1px 3px 1px rgba(60, 64, 67, 0.15);\n",
              "      fill: #174EA6;\n",
              "    }\n",
              "\n",
              "    [theme=dark] .colab-df-convert {\n",
              "      background-color: #3B4455;\n",
              "      fill: #D2E3FC;\n",
              "    }\n",
              "\n",
              "    [theme=dark] .colab-df-convert:hover {\n",
              "      background-color: #434B5C;\n",
              "      box-shadow: 0px 1px 3px 1px rgba(0, 0, 0, 0.15);\n",
              "      filter: drop-shadow(0px 1px 2px rgba(0, 0, 0, 0.3));\n",
              "      fill: #FFFFFF;\n",
              "    }\n",
              "  </style>\n",
              "\n",
              "      <script>\n",
              "        const buttonEl =\n",
              "          document.querySelector('#df-52c06be0-0e96-4506-9a67-de73966acb75 button.colab-df-convert');\n",
              "        buttonEl.style.display =\n",
              "          google.colab.kernel.accessAllowed ? 'block' : 'none';\n",
              "\n",
              "        async function convertToInteractive(key) {\n",
              "          const element = document.querySelector('#df-52c06be0-0e96-4506-9a67-de73966acb75');\n",
              "          const dataTable =\n",
              "            await google.colab.kernel.invokeFunction('convertToInteractive',\n",
              "                                                     [key], {});\n",
              "          if (!dataTable) return;\n",
              "\n",
              "          const docLinkHtml = 'Like what you see? Visit the ' +\n",
              "            '<a target=\"_blank\" href=https://colab.research.google.com/notebooks/data_table.ipynb>data table notebook</a>'\n",
              "            + ' to learn more about interactive tables.';\n",
              "          element.innerHTML = '';\n",
              "          dataTable['output_type'] = 'display_data';\n",
              "          await google.colab.output.renderOutput(dataTable, element);\n",
              "          const docLink = document.createElement('div');\n",
              "          docLink.innerHTML = docLinkHtml;\n",
              "          element.appendChild(docLink);\n",
              "        }\n",
              "      </script>\n",
              "    </div>\n",
              "  </div>\n",
              "  "
            ]
          },
          "metadata": {},
          "execution_count": 4
        }
      ]
    },
    {
      "cell_type": "markdown",
      "source": [
        "# **3. Data Analysis & Cleaning**"
      ],
      "metadata": {
        "id": "L5WtdpulDPLR"
      }
    },
    {
      "cell_type": "code",
      "source": [
        "df.shape"
      ],
      "metadata": {
        "colab": {
          "base_uri": "https://localhost:8080/"
        },
        "id": "tOz09OF6DXYD",
        "outputId": "16621288-3096-4032-e2a5-5d77dd352f78"
      },
      "execution_count": null,
      "outputs": [
        {
          "output_type": "execute_result",
          "data": {
            "text/plain": [
              "(731, 16)"
            ]
          },
          "metadata": {},
          "execution_count": 5
        }
      ]
    },
    {
      "cell_type": "code",
      "source": [
        "df.dtypes"
      ],
      "metadata": {
        "colab": {
          "base_uri": "https://localhost:8080/"
        },
        "id": "FTJFcjkTCf7o",
        "outputId": "b27feeb3-f02c-4421-9f31-5799f323adaf"
      },
      "execution_count": null,
      "outputs": [
        {
          "output_type": "execute_result",
          "data": {
            "text/plain": [
              "instant         int64\n",
              "dteday         object\n",
              "season          int64\n",
              "yr              int64\n",
              "mnth            int64\n",
              "holiday         int64\n",
              "weekday         int64\n",
              "workingday      int64\n",
              "weathersit      int64\n",
              "temp          float64\n",
              "atemp         float64\n",
              "hum           float64\n",
              "windspeed     float64\n",
              "casual          int64\n",
              "registered      int64\n",
              "cnt             int64\n",
              "dtype: object"
            ]
          },
          "metadata": {},
          "execution_count": 6
        }
      ]
    },
    {
      "cell_type": "markdown",
      "source": [
        "Lets rename the columns for better understanding"
      ],
      "metadata": {
        "id": "mjxBhjjiDpDx"
      }
    },
    {
      "cell_type": "code",
      "source": [
        "df.rename(columns={'instant':'rec_id','dteday':'datetime','yr':'year','mnth':'month','weathersit':'weather_condition',\n",
        "                       'hum':'humidity','cnt':'total_count'},inplace=True)"
      ],
      "metadata": {
        "id": "-0KU47kKDeLd"
      },
      "execution_count": null,
      "outputs": []
    },
    {
      "cell_type": "code",
      "source": [
        "df.head()"
      ],
      "metadata": {
        "colab": {
          "base_uri": "https://localhost:8080/",
          "height": 357
        },
        "id": "XBMzLerlD2ze",
        "outputId": "67708b3e-50f3-44b2-f0b6-c38c9d9ff03d"
      },
      "execution_count": null,
      "outputs": [
        {
          "output_type": "execute_result",
          "data": {
            "text/plain": [
              "   rec_id    datetime  season  year  month  holiday  weekday  workingday  \\\n",
              "0       1  2011-01-01       1     0      1        0        6           0   \n",
              "1       2  2011-01-02       1     0      1        0        0           0   \n",
              "2       3  2011-01-03       1     0      1        0        1           1   \n",
              "3       4  2011-01-04       1     0      1        0        2           1   \n",
              "4       5  2011-01-05       1     0      1        0        3           1   \n",
              "\n",
              "   weather_condition      temp     atemp  humidity  windspeed  casual  \\\n",
              "0                  2  0.344167  0.363625  0.805833   0.160446     331   \n",
              "1                  2  0.363478  0.353739  0.696087   0.248539     131   \n",
              "2                  1  0.196364  0.189405  0.437273   0.248309     120   \n",
              "3                  1  0.200000  0.212122  0.590435   0.160296     108   \n",
              "4                  1  0.226957  0.229270  0.436957   0.186900      82   \n",
              "\n",
              "   registered  total_count  \n",
              "0         654          985  \n",
              "1         670          801  \n",
              "2        1229         1349  \n",
              "3        1454         1562  \n",
              "4        1518         1600  "
            ],
            "text/html": [
              "\n",
              "  <div id=\"df-fc29bef2-6238-47b3-a943-e87c85259418\">\n",
              "    <div class=\"colab-df-container\">\n",
              "      <div>\n",
              "<style scoped>\n",
              "    .dataframe tbody tr th:only-of-type {\n",
              "        vertical-align: middle;\n",
              "    }\n",
              "\n",
              "    .dataframe tbody tr th {\n",
              "        vertical-align: top;\n",
              "    }\n",
              "\n",
              "    .dataframe thead th {\n",
              "        text-align: right;\n",
              "    }\n",
              "</style>\n",
              "<table border=\"1\" class=\"dataframe\">\n",
              "  <thead>\n",
              "    <tr style=\"text-align: right;\">\n",
              "      <th></th>\n",
              "      <th>rec_id</th>\n",
              "      <th>datetime</th>\n",
              "      <th>season</th>\n",
              "      <th>year</th>\n",
              "      <th>month</th>\n",
              "      <th>holiday</th>\n",
              "      <th>weekday</th>\n",
              "      <th>workingday</th>\n",
              "      <th>weather_condition</th>\n",
              "      <th>temp</th>\n",
              "      <th>atemp</th>\n",
              "      <th>humidity</th>\n",
              "      <th>windspeed</th>\n",
              "      <th>casual</th>\n",
              "      <th>registered</th>\n",
              "      <th>total_count</th>\n",
              "    </tr>\n",
              "  </thead>\n",
              "  <tbody>\n",
              "    <tr>\n",
              "      <th>0</th>\n",
              "      <td>1</td>\n",
              "      <td>2011-01-01</td>\n",
              "      <td>1</td>\n",
              "      <td>0</td>\n",
              "      <td>1</td>\n",
              "      <td>0</td>\n",
              "      <td>6</td>\n",
              "      <td>0</td>\n",
              "      <td>2</td>\n",
              "      <td>0.344167</td>\n",
              "      <td>0.363625</td>\n",
              "      <td>0.805833</td>\n",
              "      <td>0.160446</td>\n",
              "      <td>331</td>\n",
              "      <td>654</td>\n",
              "      <td>985</td>\n",
              "    </tr>\n",
              "    <tr>\n",
              "      <th>1</th>\n",
              "      <td>2</td>\n",
              "      <td>2011-01-02</td>\n",
              "      <td>1</td>\n",
              "      <td>0</td>\n",
              "      <td>1</td>\n",
              "      <td>0</td>\n",
              "      <td>0</td>\n",
              "      <td>0</td>\n",
              "      <td>2</td>\n",
              "      <td>0.363478</td>\n",
              "      <td>0.353739</td>\n",
              "      <td>0.696087</td>\n",
              "      <td>0.248539</td>\n",
              "      <td>131</td>\n",
              "      <td>670</td>\n",
              "      <td>801</td>\n",
              "    </tr>\n",
              "    <tr>\n",
              "      <th>2</th>\n",
              "      <td>3</td>\n",
              "      <td>2011-01-03</td>\n",
              "      <td>1</td>\n",
              "      <td>0</td>\n",
              "      <td>1</td>\n",
              "      <td>0</td>\n",
              "      <td>1</td>\n",
              "      <td>1</td>\n",
              "      <td>1</td>\n",
              "      <td>0.196364</td>\n",
              "      <td>0.189405</td>\n",
              "      <td>0.437273</td>\n",
              "      <td>0.248309</td>\n",
              "      <td>120</td>\n",
              "      <td>1229</td>\n",
              "      <td>1349</td>\n",
              "    </tr>\n",
              "    <tr>\n",
              "      <th>3</th>\n",
              "      <td>4</td>\n",
              "      <td>2011-01-04</td>\n",
              "      <td>1</td>\n",
              "      <td>0</td>\n",
              "      <td>1</td>\n",
              "      <td>0</td>\n",
              "      <td>2</td>\n",
              "      <td>1</td>\n",
              "      <td>1</td>\n",
              "      <td>0.200000</td>\n",
              "      <td>0.212122</td>\n",
              "      <td>0.590435</td>\n",
              "      <td>0.160296</td>\n",
              "      <td>108</td>\n",
              "      <td>1454</td>\n",
              "      <td>1562</td>\n",
              "    </tr>\n",
              "    <tr>\n",
              "      <th>4</th>\n",
              "      <td>5</td>\n",
              "      <td>2011-01-05</td>\n",
              "      <td>1</td>\n",
              "      <td>0</td>\n",
              "      <td>1</td>\n",
              "      <td>0</td>\n",
              "      <td>3</td>\n",
              "      <td>1</td>\n",
              "      <td>1</td>\n",
              "      <td>0.226957</td>\n",
              "      <td>0.229270</td>\n",
              "      <td>0.436957</td>\n",
              "      <td>0.186900</td>\n",
              "      <td>82</td>\n",
              "      <td>1518</td>\n",
              "      <td>1600</td>\n",
              "    </tr>\n",
              "  </tbody>\n",
              "</table>\n",
              "</div>\n",
              "      <button class=\"colab-df-convert\" onclick=\"convertToInteractive('df-fc29bef2-6238-47b3-a943-e87c85259418')\"\n",
              "              title=\"Convert this dataframe to an interactive table.\"\n",
              "              style=\"display:none;\">\n",
              "        \n",
              "  <svg xmlns=\"http://www.w3.org/2000/svg\" height=\"24px\"viewBox=\"0 0 24 24\"\n",
              "       width=\"24px\">\n",
              "    <path d=\"M0 0h24v24H0V0z\" fill=\"none\"/>\n",
              "    <path d=\"M18.56 5.44l.94 2.06.94-2.06 2.06-.94-2.06-.94-.94-2.06-.94 2.06-2.06.94zm-11 1L8.5 8.5l.94-2.06 2.06-.94-2.06-.94L8.5 2.5l-.94 2.06-2.06.94zm10 10l.94 2.06.94-2.06 2.06-.94-2.06-.94-.94-2.06-.94 2.06-2.06.94z\"/><path d=\"M17.41 7.96l-1.37-1.37c-.4-.4-.92-.59-1.43-.59-.52 0-1.04.2-1.43.59L10.3 9.45l-7.72 7.72c-.78.78-.78 2.05 0 2.83L4 21.41c.39.39.9.59 1.41.59.51 0 1.02-.2 1.41-.59l7.78-7.78 2.81-2.81c.8-.78.8-2.07 0-2.86zM5.41 20L4 18.59l7.72-7.72 1.47 1.35L5.41 20z\"/>\n",
              "  </svg>\n",
              "      </button>\n",
              "      \n",
              "  <style>\n",
              "    .colab-df-container {\n",
              "      display:flex;\n",
              "      flex-wrap:wrap;\n",
              "      gap: 12px;\n",
              "    }\n",
              "\n",
              "    .colab-df-convert {\n",
              "      background-color: #E8F0FE;\n",
              "      border: none;\n",
              "      border-radius: 50%;\n",
              "      cursor: pointer;\n",
              "      display: none;\n",
              "      fill: #1967D2;\n",
              "      height: 32px;\n",
              "      padding: 0 0 0 0;\n",
              "      width: 32px;\n",
              "    }\n",
              "\n",
              "    .colab-df-convert:hover {\n",
              "      background-color: #E2EBFA;\n",
              "      box-shadow: 0px 1px 2px rgba(60, 64, 67, 0.3), 0px 1px 3px 1px rgba(60, 64, 67, 0.15);\n",
              "      fill: #174EA6;\n",
              "    }\n",
              "\n",
              "    [theme=dark] .colab-df-convert {\n",
              "      background-color: #3B4455;\n",
              "      fill: #D2E3FC;\n",
              "    }\n",
              "\n",
              "    [theme=dark] .colab-df-convert:hover {\n",
              "      background-color: #434B5C;\n",
              "      box-shadow: 0px 1px 3px 1px rgba(0, 0, 0, 0.15);\n",
              "      filter: drop-shadow(0px 1px 2px rgba(0, 0, 0, 0.3));\n",
              "      fill: #FFFFFF;\n",
              "    }\n",
              "  </style>\n",
              "\n",
              "      <script>\n",
              "        const buttonEl =\n",
              "          document.querySelector('#df-fc29bef2-6238-47b3-a943-e87c85259418 button.colab-df-convert');\n",
              "        buttonEl.style.display =\n",
              "          google.colab.kernel.accessAllowed ? 'block' : 'none';\n",
              "\n",
              "        async function convertToInteractive(key) {\n",
              "          const element = document.querySelector('#df-fc29bef2-6238-47b3-a943-e87c85259418');\n",
              "          const dataTable =\n",
              "            await google.colab.kernel.invokeFunction('convertToInteractive',\n",
              "                                                     [key], {});\n",
              "          if (!dataTable) return;\n",
              "\n",
              "          const docLinkHtml = 'Like what you see? Visit the ' +\n",
              "            '<a target=\"_blank\" href=https://colab.research.google.com/notebooks/data_table.ipynb>data table notebook</a>'\n",
              "            + ' to learn more about interactive tables.';\n",
              "          element.innerHTML = '';\n",
              "          dataTable['output_type'] = 'display_data';\n",
              "          await google.colab.output.renderOutput(dataTable, element);\n",
              "          const docLink = document.createElement('div');\n",
              "          docLink.innerHTML = docLinkHtml;\n",
              "          element.appendChild(docLink);\n",
              "        }\n",
              "      </script>\n",
              "    </div>\n",
              "  </div>\n",
              "  "
            ]
          },
          "metadata": {},
          "execution_count": 8
        }
      ]
    },
    {
      "cell_type": "markdown",
      "source": [
        ""
      ],
      "metadata": {
        "id": "4aT9cd88ET--"
      }
    },
    {
      "cell_type": "markdown",
      "metadata": {
        "id": "00efd691"
      },
      "source": [
        "### Let us convert our Data types of variables to the significant category"
      ]
    },
    {
      "cell_type": "code",
      "metadata": {
        "id": "95491bd6"
      },
      "source": [
        "df['datetime']=pd.to_datetime(df.datetime)\n",
        "df['season']=df.season.astype('category')\n",
        "df['year']=df.year.astype('category')\n",
        "df['month']=df.month.astype('category')\n",
        "df['holiday']=df.holiday.astype('category')\n",
        "df['weekday']=df.weekday.astype('category')\n",
        "df['workingday']=df.workingday.astype('category')\n",
        "df['weather_condition']=df.weather_condition.astype('category')"
      ],
      "execution_count": null,
      "outputs": []
    },
    {
      "cell_type": "code",
      "metadata": {
        "id": "6f742fb5",
        "colab": {
          "base_uri": "https://localhost:8080/"
        },
        "outputId": "05b6cbec-5b7e-499b-8036-6f1db7741e07"
      },
      "source": [
        "df.dtypes"
      ],
      "execution_count": null,
      "outputs": [
        {
          "output_type": "execute_result",
          "data": {
            "text/plain": [
              "rec_id                        int64\n",
              "datetime             datetime64[ns]\n",
              "season                     category\n",
              "year                       category\n",
              "month                      category\n",
              "holiday                    category\n",
              "weekday                    category\n",
              "workingday                 category\n",
              "weather_condition          category\n",
              "temp                        float64\n",
              "atemp                       float64\n",
              "humidity                    float64\n",
              "windspeed                   float64\n",
              "casual                        int64\n",
              "registered                    int64\n",
              "total_count                   int64\n",
              "dtype: object"
            ]
          },
          "metadata": {},
          "execution_count": 10
        }
      ]
    },
    {
      "cell_type": "code",
      "metadata": {
        "id": "13474189",
        "colab": {
          "base_uri": "https://localhost:8080/",
          "height": 300
        },
        "outputId": "abfa9f52-9d15-4fe3-fdbd-b5e83f42e0db"
      },
      "source": [
        "df.describe()"
      ],
      "execution_count": null,
      "outputs": [
        {
          "output_type": "execute_result",
          "data": {
            "text/plain": [
              "           rec_id        temp       atemp    humidity   windspeed  \\\n",
              "count  731.000000  731.000000  731.000000  731.000000  731.000000   \n",
              "mean   366.000000    0.495385    0.474354    0.627894    0.190486   \n",
              "std    211.165812    0.183051    0.162961    0.142429    0.077498   \n",
              "min      1.000000    0.059130    0.079070    0.000000    0.022392   \n",
              "25%    183.500000    0.337083    0.337842    0.520000    0.134950   \n",
              "50%    366.000000    0.498333    0.486733    0.626667    0.180975   \n",
              "75%    548.500000    0.655417    0.608602    0.730209    0.233214   \n",
              "max    731.000000    0.861667    0.840896    0.972500    0.507463   \n",
              "\n",
              "            casual   registered  total_count  \n",
              "count   731.000000   731.000000   731.000000  \n",
              "mean    848.176471  3656.172367  4504.348837  \n",
              "std     686.622488  1560.256377  1937.211452  \n",
              "min       2.000000    20.000000    22.000000  \n",
              "25%     315.500000  2497.000000  3152.000000  \n",
              "50%     713.000000  3662.000000  4548.000000  \n",
              "75%    1096.000000  4776.500000  5956.000000  \n",
              "max    3410.000000  6946.000000  8714.000000  "
            ],
            "text/html": [
              "\n",
              "  <div id=\"df-db93d40e-f29d-45cf-95c3-0dda99c9a1ad\">\n",
              "    <div class=\"colab-df-container\">\n",
              "      <div>\n",
              "<style scoped>\n",
              "    .dataframe tbody tr th:only-of-type {\n",
              "        vertical-align: middle;\n",
              "    }\n",
              "\n",
              "    .dataframe tbody tr th {\n",
              "        vertical-align: top;\n",
              "    }\n",
              "\n",
              "    .dataframe thead th {\n",
              "        text-align: right;\n",
              "    }\n",
              "</style>\n",
              "<table border=\"1\" class=\"dataframe\">\n",
              "  <thead>\n",
              "    <tr style=\"text-align: right;\">\n",
              "      <th></th>\n",
              "      <th>rec_id</th>\n",
              "      <th>temp</th>\n",
              "      <th>atemp</th>\n",
              "      <th>humidity</th>\n",
              "      <th>windspeed</th>\n",
              "      <th>casual</th>\n",
              "      <th>registered</th>\n",
              "      <th>total_count</th>\n",
              "    </tr>\n",
              "  </thead>\n",
              "  <tbody>\n",
              "    <tr>\n",
              "      <th>count</th>\n",
              "      <td>731.000000</td>\n",
              "      <td>731.000000</td>\n",
              "      <td>731.000000</td>\n",
              "      <td>731.000000</td>\n",
              "      <td>731.000000</td>\n",
              "      <td>731.000000</td>\n",
              "      <td>731.000000</td>\n",
              "      <td>731.000000</td>\n",
              "    </tr>\n",
              "    <tr>\n",
              "      <th>mean</th>\n",
              "      <td>366.000000</td>\n",
              "      <td>0.495385</td>\n",
              "      <td>0.474354</td>\n",
              "      <td>0.627894</td>\n",
              "      <td>0.190486</td>\n",
              "      <td>848.176471</td>\n",
              "      <td>3656.172367</td>\n",
              "      <td>4504.348837</td>\n",
              "    </tr>\n",
              "    <tr>\n",
              "      <th>std</th>\n",
              "      <td>211.165812</td>\n",
              "      <td>0.183051</td>\n",
              "      <td>0.162961</td>\n",
              "      <td>0.142429</td>\n",
              "      <td>0.077498</td>\n",
              "      <td>686.622488</td>\n",
              "      <td>1560.256377</td>\n",
              "      <td>1937.211452</td>\n",
              "    </tr>\n",
              "    <tr>\n",
              "      <th>min</th>\n",
              "      <td>1.000000</td>\n",
              "      <td>0.059130</td>\n",
              "      <td>0.079070</td>\n",
              "      <td>0.000000</td>\n",
              "      <td>0.022392</td>\n",
              "      <td>2.000000</td>\n",
              "      <td>20.000000</td>\n",
              "      <td>22.000000</td>\n",
              "    </tr>\n",
              "    <tr>\n",
              "      <th>25%</th>\n",
              "      <td>183.500000</td>\n",
              "      <td>0.337083</td>\n",
              "      <td>0.337842</td>\n",
              "      <td>0.520000</td>\n",
              "      <td>0.134950</td>\n",
              "      <td>315.500000</td>\n",
              "      <td>2497.000000</td>\n",
              "      <td>3152.000000</td>\n",
              "    </tr>\n",
              "    <tr>\n",
              "      <th>50%</th>\n",
              "      <td>366.000000</td>\n",
              "      <td>0.498333</td>\n",
              "      <td>0.486733</td>\n",
              "      <td>0.626667</td>\n",
              "      <td>0.180975</td>\n",
              "      <td>713.000000</td>\n",
              "      <td>3662.000000</td>\n",
              "      <td>4548.000000</td>\n",
              "    </tr>\n",
              "    <tr>\n",
              "      <th>75%</th>\n",
              "      <td>548.500000</td>\n",
              "      <td>0.655417</td>\n",
              "      <td>0.608602</td>\n",
              "      <td>0.730209</td>\n",
              "      <td>0.233214</td>\n",
              "      <td>1096.000000</td>\n",
              "      <td>4776.500000</td>\n",
              "      <td>5956.000000</td>\n",
              "    </tr>\n",
              "    <tr>\n",
              "      <th>max</th>\n",
              "      <td>731.000000</td>\n",
              "      <td>0.861667</td>\n",
              "      <td>0.840896</td>\n",
              "      <td>0.972500</td>\n",
              "      <td>0.507463</td>\n",
              "      <td>3410.000000</td>\n",
              "      <td>6946.000000</td>\n",
              "      <td>8714.000000</td>\n",
              "    </tr>\n",
              "  </tbody>\n",
              "</table>\n",
              "</div>\n",
              "      <button class=\"colab-df-convert\" onclick=\"convertToInteractive('df-db93d40e-f29d-45cf-95c3-0dda99c9a1ad')\"\n",
              "              title=\"Convert this dataframe to an interactive table.\"\n",
              "              style=\"display:none;\">\n",
              "        \n",
              "  <svg xmlns=\"http://www.w3.org/2000/svg\" height=\"24px\"viewBox=\"0 0 24 24\"\n",
              "       width=\"24px\">\n",
              "    <path d=\"M0 0h24v24H0V0z\" fill=\"none\"/>\n",
              "    <path d=\"M18.56 5.44l.94 2.06.94-2.06 2.06-.94-2.06-.94-.94-2.06-.94 2.06-2.06.94zm-11 1L8.5 8.5l.94-2.06 2.06-.94-2.06-.94L8.5 2.5l-.94 2.06-2.06.94zm10 10l.94 2.06.94-2.06 2.06-.94-2.06-.94-.94-2.06-.94 2.06-2.06.94z\"/><path d=\"M17.41 7.96l-1.37-1.37c-.4-.4-.92-.59-1.43-.59-.52 0-1.04.2-1.43.59L10.3 9.45l-7.72 7.72c-.78.78-.78 2.05 0 2.83L4 21.41c.39.39.9.59 1.41.59.51 0 1.02-.2 1.41-.59l7.78-7.78 2.81-2.81c.8-.78.8-2.07 0-2.86zM5.41 20L4 18.59l7.72-7.72 1.47 1.35L5.41 20z\"/>\n",
              "  </svg>\n",
              "      </button>\n",
              "      \n",
              "  <style>\n",
              "    .colab-df-container {\n",
              "      display:flex;\n",
              "      flex-wrap:wrap;\n",
              "      gap: 12px;\n",
              "    }\n",
              "\n",
              "    .colab-df-convert {\n",
              "      background-color: #E8F0FE;\n",
              "      border: none;\n",
              "      border-radius: 50%;\n",
              "      cursor: pointer;\n",
              "      display: none;\n",
              "      fill: #1967D2;\n",
              "      height: 32px;\n",
              "      padding: 0 0 0 0;\n",
              "      width: 32px;\n",
              "    }\n",
              "\n",
              "    .colab-df-convert:hover {\n",
              "      background-color: #E2EBFA;\n",
              "      box-shadow: 0px 1px 2px rgba(60, 64, 67, 0.3), 0px 1px 3px 1px rgba(60, 64, 67, 0.15);\n",
              "      fill: #174EA6;\n",
              "    }\n",
              "\n",
              "    [theme=dark] .colab-df-convert {\n",
              "      background-color: #3B4455;\n",
              "      fill: #D2E3FC;\n",
              "    }\n",
              "\n",
              "    [theme=dark] .colab-df-convert:hover {\n",
              "      background-color: #434B5C;\n",
              "      box-shadow: 0px 1px 3px 1px rgba(0, 0, 0, 0.15);\n",
              "      filter: drop-shadow(0px 1px 2px rgba(0, 0, 0, 0.3));\n",
              "      fill: #FFFFFF;\n",
              "    }\n",
              "  </style>\n",
              "\n",
              "      <script>\n",
              "        const buttonEl =\n",
              "          document.querySelector('#df-db93d40e-f29d-45cf-95c3-0dda99c9a1ad button.colab-df-convert');\n",
              "        buttonEl.style.display =\n",
              "          google.colab.kernel.accessAllowed ? 'block' : 'none';\n",
              "\n",
              "        async function convertToInteractive(key) {\n",
              "          const element = document.querySelector('#df-db93d40e-f29d-45cf-95c3-0dda99c9a1ad');\n",
              "          const dataTable =\n",
              "            await google.colab.kernel.invokeFunction('convertToInteractive',\n",
              "                                                     [key], {});\n",
              "          if (!dataTable) return;\n",
              "\n",
              "          const docLinkHtml = 'Like what you see? Visit the ' +\n",
              "            '<a target=\"_blank\" href=https://colab.research.google.com/notebooks/data_table.ipynb>data table notebook</a>'\n",
              "            + ' to learn more about interactive tables.';\n",
              "          element.innerHTML = '';\n",
              "          dataTable['output_type'] = 'display_data';\n",
              "          await google.colab.output.renderOutput(dataTable, element);\n",
              "          const docLink = document.createElement('div');\n",
              "          docLink.innerHTML = docLinkHtml;\n",
              "          element.appendChild(docLink);\n",
              "        }\n",
              "      </script>\n",
              "    </div>\n",
              "  </div>\n",
              "  "
            ]
          },
          "metadata": {},
          "execution_count": 11
        }
      ]
    },
    {
      "cell_type": "markdown",
      "source": [
        "Handling Missing Values"
      ],
      "metadata": {
        "id": "hPRBl9xnFe0T"
      }
    },
    {
      "cell_type": "code",
      "source": [
        "df.isnull().sum()"
      ],
      "metadata": {
        "colab": {
          "base_uri": "https://localhost:8080/"
        },
        "id": "OvqdcmSND76m",
        "outputId": "de204cc2-0bc4-4e64-b23e-91ed8d86eaa1"
      },
      "execution_count": null,
      "outputs": [
        {
          "output_type": "execute_result",
          "data": {
            "text/plain": [
              "rec_id               0\n",
              "datetime             0\n",
              "season               0\n",
              "year                 0\n",
              "month                0\n",
              "holiday              0\n",
              "weekday              0\n",
              "workingday           0\n",
              "weather_condition    0\n",
              "temp                 0\n",
              "atemp                0\n",
              "humidity             0\n",
              "windspeed            0\n",
              "casual               0\n",
              "registered           0\n",
              "total_count          0\n",
              "dtype: int64"
            ]
          },
          "metadata": {},
          "execution_count": 12
        }
      ]
    },
    {
      "cell_type": "markdown",
      "source": [
        ""
      ],
      "metadata": {
        "id": "0OsbpuCGGCf4"
      }
    },
    {
      "cell_type": "markdown",
      "metadata": {
        "id": "4ccac4cf"
      },
      "source": [
        "### Let us see how the different months and seasons affect the rental counts"
      ]
    },
    {
      "cell_type": "code",
      "metadata": {
        "id": "37185b6d",
        "colab": {
          "base_uri": "https://localhost:8080/",
          "height": 1000
        },
        "outputId": "d0170787-1da9-4331-e378-0d33557ab96e"
      },
      "source": [
        "fig,ax=plt.subplots(figsize=(15,8))\n",
        "sns.set_style('white')\n",
        "#Bar plot for seasonwise monthly distribution of counts\n",
        "sns.barplot(x='month',y='total_count',data=df[['month','total_count','season']],hue='season',ax=ax)\n",
        "ax.set_title('Seasonwise monthly distribution of counts')\n",
        "plt.show()\n",
        "#Bar plot for weekday wise monthly distribution of counts\n",
        "fig,ax1=plt.subplots(figsize=(15,8))\n",
        "sns.barplot(x='month',y='total_count',data=df[['month','total_count','weekday']],hue='weekday',ax=ax1)\n",
        "ax1.set_title('Weekday wise monthly distribution of counts')\n",
        "plt.show()"
      ],
      "execution_count": null,
      "outputs": [
        {
          "output_type": "display_data",
          "data": {
            "text/plain": [
              "<Figure size 1080x576 with 1 Axes>"
            ],
            "image/png": "[encoded data removed]"
          },
          "metadata": {
            "needs_background": "light"
          }
        },
        {
          "output_type": "display_data",
          "data": {
            "text/plain": [
              "<Figure size 1080x576 with 1 Axes>"
            ],
            "image/png": "[encoded data removed]"
          },
          "metadata": {}
        }
      ]
    },
    {
      "cell_type": "code",
      "metadata": {
        "id": "494b3e91",
        "colab": {
          "base_uri": "https://localhost:8080/",
          "height": 513
        },
        "outputId": "7c88f614-ce84-4762-c431-3e590fd8617b"
      },
      "source": [
        "fig,ax=plt.subplots(figsize=(15,8))\n",
        "#Violin plot for yearly distribution of counts\n",
        "sns.barplot(x='year',y='total_count',data=df[['year','total_count']])\n",
        "ax.set_title('Yearly distribution of counts')\n",
        "plt.show()"
      ],
      "execution_count": null,
      "outputs": [
        {
          "output_type": "display_data",
          "data": {
            "text/plain": [
              "<Figure size 1080x576 with 1 Axes>"
            ],
            "image/png": "[encoded data removed]"
          },
          "metadata": {}
        }
      ]
    },
    {
      "cell_type": "code",
      "metadata": {
        "id": "dd597914",
        "colab": {
          "base_uri": "https://localhost:8080/",
          "height": 513
        },
        "outputId": "cecb7d76-4228-4d2c-de83-2f4215569b9d"
      },
      "source": [
        "fig,ax=plt.subplots(figsize=(15,8))\n",
        "#Barplot for Holiday distribution of counts\n",
        "sns.violinplot(data=df,x='holiday',y='total_count',hue='season')\n",
        "ax.set_title('Holiday wise distribution of counts')\n",
        "plt.show()"
      ],
      "execution_count": null,
      "outputs": [
        {
          "output_type": "display_data",
          "data": {
            "text/plain": [
              "<Figure size 1080x576 with 1 Axes>"
            ],
            "image/png": "[encoded data removed]"
          },
          "metadata": {}
        }
      ]
    },
    {
      "cell_type": "code",
      "metadata": {
        "id": "0cbd29a3",
        "colab": {
          "base_uri": "https://localhost:8080/",
          "height": 513
        },
        "outputId": "0042391f-2a3e-4972-8d2a-8f25dfb3a580"
      },
      "source": [
        "fig,ax=plt.subplots(figsize=(15,8))\n",
        "#Barplot for Holiday distribution of counts\n",
        "sns.barplot(data=df,x='holiday',y='total_count',hue='season')\n",
        "ax.set_title('Holiday wise distribution of counts')\n",
        "plt.show()"
      ],
      "execution_count": null,
      "outputs": [
        {
          "output_type": "display_data",
          "data": {
            "text/plain": [
              "<Figure size 1080x576 with 1 Axes>"
            ],
            "image/png": "[encoded data removed]"
          },
          "metadata": {}
        }
      ]
    },
    {
      "cell_type": "code",
      "metadata": {
        "id": "55348b1e",
        "colab": {
          "base_uri": "https://localhost:8080/",
          "height": 513
        },
        "outputId": "e4e92de7-fe8f-4a07-9396-acd68f0d6745"
      },
      "source": [
        "fig,ax=plt.subplots(figsize=(15,8))\n",
        "#Bar plot for workingday distribution of counts\n",
        "sns.barplot(data=df,x='workingday',y='total_count',hue='season')\n",
        "ax.set_title('Workingday wise distribution of counts')\n",
        "plt.show()"
      ],
      "execution_count": null,
      "outputs": [
        {
          "output_type": "display_data",
          "data": {
            "text/plain": [
              "<Figure size 1080x576 with 1 Axes>"
            ],
            "image/png": "[encoded data removed]"
          },
          "metadata": {}
        }
      ]
    },
    {
      "cell_type": "code",
      "metadata": {
        "id": "65695dde",
        "colab": {
          "base_uri": "https://localhost:8080/",
          "height": 514
        },
        "outputId": "62e95ef0-0835-4681-8fcf-1ea8f24da2f4"
      },
      "source": [
        "fig,ax1=plt.subplots(figsize=(15,8))\n",
        "#Bar plot for weather_condition distribution of counts\n",
        "sns.barplot(x='weather_condition',y='total_count',data=df[['month','total_count','weather_condition']],ax=ax1)\n",
        "ax1.set_title('Weather condition wise monthly distribution of counts')\n",
        "plt.show()"
      ],
      "execution_count": null,
      "outputs": [
        {
          "output_type": "display_data",
          "data": {
            "text/plain": [
              "<Figure size 1080x576 with 1 Axes>"
            ],
            "image/png": "[encoded data removed]"
          },
          "metadata": {}
        }
      ]
    },
    {
      "cell_type": "markdown",
      "source": [
        ""
      ],
      "metadata": {
        "id": "EwobMvKgJvcl"
      }
    },
    {
      "cell_type": "markdown",
      "metadata": {
        "id": "bc0ec638"
      },
      "source": [
        "### Outlier Analysis"
      ]
    },
    {
      "cell_type": "code",
      "source": [
        "fig,ax=plt.subplots(figsize=(15,8))\n",
        "#Boxplot for total_count outliers\n",
        "sns.boxplot(data=df[['total_count']])\n",
        "ax.set_title('total_count outliers')\n",
        "plt.show()"
      ],
      "metadata": {
        "colab": {
          "base_uri": "https://localhost:8080/",
          "height": 500
        },
        "id": "jPbJLpcQFmL1",
        "outputId": "a7af4bdf-d307-4efb-cdfa-26decb4e82b7"
      },
      "execution_count": null,
      "outputs": [
        {
          "output_type": "display_data",
          "data": {
            "text/plain": [
              "<Figure size 1080x576 with 1 Axes>"
            ],
            "image/png": "[encoded data removed]"
          },
          "metadata": {}
        }
      ]
    },
    {
      "cell_type": "code",
      "source": [
        "fig,ax=plt.subplots(figsize=(15,8))\n",
        "#Box plot for Temp_windspeed_humidity_outliers\n",
        "sns.boxplot(data=df[['temp','windspeed','humidity']])\n",
        "ax.set_title('Temp_windspeed_humidity_outiers')\n",
        "plt.show()"
      ],
      "metadata": {
        "colab": {
          "base_uri": "https://localhost:8080/",
          "height": 499
        },
        "id": "WhdxG2HQJ6DA",
        "outputId": "5e199e89-3a50-44aa-b791-d0d1d0b99bf7"
      },
      "execution_count": null,
      "outputs": [
        {
          "output_type": "display_data",
          "data": {
            "text/plain": [
              "<Figure size 1080x576 with 1 Axes>"
            ],
            "image/png": "[encoded data removed]"
          },
          "metadata": {}
        }
      ]
    },
    {
      "cell_type": "markdown",
      "source": [
        ""
      ],
      "metadata": {
        "id": "Pep4O0ZnKmGF"
      }
    },
    {
      "cell_type": "markdown",
      "metadata": {
        "id": "f2112e78"
      },
      "source": [
        "### Plotting Q-Q Plot"
      ]
    },
    {
      "cell_type": "code",
      "source": [
        "import scipy.stats as stat\n",
        "import pylab"
      ],
      "metadata": {
        "id": "Hn4gT7HmJ-gW"
      },
      "execution_count": null,
      "outputs": []
    },
    {
      "cell_type": "code",
      "source": [
        "def plot_curve(df,feature):\n",
        "    plt.figure(figsize=(10,6))\n",
        "    plt.subplot(1,2,1)\n",
        "    df[feature].hist()\n",
        "    plt.subplot(1,2,2)\n",
        "    stat.probplot(df[feature],dist='norm',plot=pylab) # Q-Q plot is combination for probplot and distribution graph\n",
        "    plt.show()"
      ],
      "metadata": {
        "id": "kOX6GAdZKs8e"
      },
      "execution_count": null,
      "outputs": []
    },
    {
      "cell_type": "code",
      "source": [
        "plot_curve(df,'total_count')"
      ],
      "metadata": {
        "colab": {
          "base_uri": "https://localhost:8080/",
          "height": 404
        },
        "id": "BFXK9GfdKwTd",
        "outputId": "23db4a75-3e0d-4ca7-b3ca-7326d96f0efb"
      },
      "execution_count": null,
      "outputs": [
        {
          "output_type": "display_data",
          "data": {
            "text/plain": [
              "<Figure size 720x432 with 2 Axes>"
            ],
            "image/png": "[encoded data removed]"
          },
          "metadata": {}
        }
      ]
    },
    {
      "cell_type": "code",
      "source": [
        "plot_curve(df,'humidity')"
      ],
      "metadata": {
        "colab": {
          "base_uri": "https://localhost:8080/",
          "height": 404
        },
        "id": "MXjodZLEK28p",
        "outputId": "2479eeb1-bdd4-4dc0-fea8-e6efefaec59c"
      },
      "execution_count": null,
      "outputs": [
        {
          "output_type": "display_data",
          "data": {
            "text/plain": [
              "<Figure size 720x432 with 2 Axes>"
            ],
            "image/png": "[encoded data removed]"
          },
          "metadata": {}
        }
      ]
    },
    {
      "cell_type": "markdown",
      "source": [
        ""
      ],
      "metadata": {
        "id": "5rLf-RUtMB1k"
      }
    },
    {
      "cell_type": "markdown",
      "metadata": {
        "id": "d68d60f0"
      },
      "source": [
        "### Co Relation Matrix"
      ]
    },
    {
      "cell_type": "code",
      "source": [
        "correMtr=df[[\"temp\",\"atemp\",\"humidity\",\"windspeed\",\"casual\",\"registered\",\"total_count\"]].corr()\n",
        "mask=np.array(correMtr)\n",
        "mask[np.tril_indices_from(mask)]=False\n",
        "#Heat map for correlation matrix of attributes\n",
        "fig,ax=plt.subplots(figsize=(15,8))\n",
        "sns.heatmap(correMtr,mask=mask,vmax=0.8,square=True,annot=True,ax=ax)\n",
        "ax.set_title('Correlation matrix of attributes')\n",
        "plt.show()"
      ],
      "metadata": {
        "colab": {
          "base_uri": "https://localhost:8080/",
          "height": 500
        },
        "id": "F_FVS0o1LvE8",
        "outputId": "30a400b8-2583-417b-9df6-9172a7b5b131"
      },
      "execution_count": null,
      "outputs": [
        {
          "output_type": "display_data",
          "data": {
            "text/plain": [
              "<Figure size 1080x576 with 2 Axes>"
            ],
            "image/png": "[encoded data removed]"
          },
          "metadata": {}
        }
      ]
    },
    {
      "cell_type": "markdown",
      "source": [
        "# **4. Data Preprocessing**"
      ],
      "metadata": {
        "id": "cfK__yzqMg5J"
      }
    },
    {
      "cell_type": "code",
      "source": [
        "#categorical attributes\n",
        "cat_attributes=['season','holiday','workingday','weather_condition','year']\n",
        "#numerical attributes\n",
        "num_attributes=['temp','windspeed','humidity','month','weekday']"
      ],
      "metadata": {
        "id": "Mn3lTjDVMGft"
      },
      "execution_count": null,
      "outputs": []
    },
    {
      "cell_type": "markdown",
      "source": [
        ""
      ],
      "metadata": {
        "id": "dDGNfveONlnB"
      }
    },
    {
      "cell_type": "markdown",
      "metadata": {
        "id": "f13a5556"
      },
      "source": [
        "### One Hot Encoding"
      ]
    },
    {
      "cell_type": "code",
      "source": [
        ""
      ],
      "metadata": {
        "id": "EkT-AyAWQR9Z"
      },
      "execution_count": null,
      "outputs": []
    },
    {
      "cell_type": "code",
      "metadata": {
        "id": "bee17a41",
        "colab": {
          "base_uri": "https://localhost:8080/",
          "height": 403
        },
        "outputId": "7590c749-cedb-49a5-e189-0d6c56b0e17a"
      },
      "source": [
        "encoded_df =pd.get_dummies(df,columns=cat_attributes)\n",
        "print('Shape of transfomed dataframe::',encoded_df.shape)\n",
        "encoded_df.head()"
      ],
      "execution_count": null,
      "outputs": [
        {
          "output_type": "stream",
          "name": "stdout",
          "text": [
            "Shape of transfomed dataframe:: (731, 24)\n"
          ]
        },
        {
          "output_type": "execute_result",
          "data": {
            "text/plain": [
              "   rec_id   datetime month weekday      temp     atemp  humidity  windspeed  \\\n",
              "0       1 2011-01-01     1       6  0.344167  0.363625  0.805833   0.160446   \n",
              "1       2 2011-01-02     1       0  0.363478  0.353739  0.696087   0.248539   \n",
              "2       3 2011-01-03     1       1  0.196364  0.189405  0.437273   0.248309   \n",
              "3       4 2011-01-04     1       2  0.200000  0.212122  0.590435   0.160296   \n",
              "4       5 2011-01-05     1       3  0.226957  0.229270  0.436957   0.186900   \n",
              "\n",
              "   casual  registered  ...  season_4  holiday_0  holiday_1  workingday_0  \\\n",
              "0     331         654  ...         0          1          0             1   \n",
              "1     131         670  ...         0          1          0             1   \n",
              "2     120        1229  ...         0          1          0             0   \n",
              "3     108        1454  ...         0          1          0             0   \n",
              "4      82        1518  ...         0          1          0             0   \n",
              "\n",
              "   workingday_1  weather_condition_1  weather_condition_2  \\\n",
              "0             0                    0                    1   \n",
              "1             0                    0                    1   \n",
              "2             1                    1                    0   \n",
              "3             1                    1                    0   \n",
              "4             1                    1                    0   \n",
              "\n",
              "   weather_condition_3  year_0  year_1  \n",
              "0                    0       1       0  \n",
              "1                    0       1       0  \n",
              "2                    0       1       0  \n",
              "3                    0       1       0  \n",
              "4                    0       1       0  \n",
              "\n",
              "[5 rows x 24 columns]"
            ],
            "text/html": [
              "\n",
              "  <div id=\"df-e3f86308-16ae-45d3-9b38-1a4e4f98d040\">\n",
              "    <div class=\"colab-df-container\">\n",
              "      <div>\n",
              "<style scoped>\n",
              "    .dataframe tbody tr th:only-of-type {\n",
              "        vertical-align: middle;\n",
              "    }\n",
              "\n",
              "    .dataframe tbody tr th {\n",
              "        vertical-align: top;\n",
              "    }\n",
              "\n",
              "    .dataframe thead th {\n",
              "        text-align: right;\n",
              "    }\n",
              "</style>\n",
              "<table border=\"1\" class=\"dataframe\">\n",
              "  <thead>\n",
              "    <tr style=\"text-align: right;\">\n",
              "      <th></th>\n",
              "      <th>rec_id</th>\n",
              "      <th>datetime</th>\n",
              "      <th>month</th>\n",
              "      <th>weekday</th>\n",
              "      <th>temp</th>\n",
              "      <th>atemp</th>\n",
              "      <th>humidity</th>\n",
              "      <th>windspeed</th>\n",
              "      <th>casual</th>\n",
              "      <th>registered</th>\n",
              "      <th>...</th>\n",
              "      <th>season_4</th>\n",
              "      <th>holiday_0</th>\n",
              "      <th>holiday_1</th>\n",
              "      <th>workingday_0</th>\n",
              "      <th>workingday_1</th>\n",
              "      <th>weather_condition_1</th>\n",
              "      <th>weather_condition_2</th>\n",
              "      <th>weather_condition_3</th>\n",
              "      <th>year_0</th>\n",
              "      <th>year_1</th>\n",
              "    </tr>\n",
              "  </thead>\n",
              "  <tbody>\n",
              "    <tr>\n",
              "      <th>0</th>\n",
              "      <td>1</td>\n",
              "      <td>2011-01-01</td>\n",
              "      <td>1</td>\n",
              "      <td>6</td>\n",
              "      <td>0.344167</td>\n",
              "      <td>0.363625</td>\n",
              "      <td>0.805833</td>\n",
              "      <td>0.160446</td>\n",
              "      <td>331</td>\n",
              "      <td>654</td>\n",
              "      <td>...</td>\n",
              "      <td>0</td>\n",
              "      <td>1</td>\n",
              "      <td>0</td>\n",
              "      <td>1</td>\n",
              "      <td>0</td>\n",
              "      <td>0</td>\n",
              "      <td>1</td>\n",
              "      <td>0</td>\n",
              "      <td>1</td>\n",
              "      <td>0</td>\n",
              "    </tr>\n",
              "    <tr>\n",
              "      <th>1</th>\n",
              "      <td>2</td>\n",
              "      <td>2011-01-02</td>\n",
              "      <td>1</td>\n",
              "      <td>0</td>\n",
              "      <td>0.363478</td>\n",
              "      <td>0.353739</td>\n",
              "      <td>0.696087</td>\n",
              "      <td>0.248539</td>\n",
              "      <td>131</td>\n",
              "      <td>670</td>\n",
              "      <td>...</td>\n",
              "      <td>0</td>\n",
              "      <td>1</td>\n",
              "      <td>0</td>\n",
              "      <td>1</td>\n",
              "      <td>0</td>\n",
              "      <td>0</td>\n",
              "      <td>1</td>\n",
              "      <td>0</td>\n",
              "      <td>1</td>\n",
              "      <td>0</td>\n",
              "    </tr>\n",
              "    <tr>\n",
              "      <th>2</th>\n",
              "      <td>3</td>\n",
              "      <td>2011-01-03</td>\n",
              "      <td>1</td>\n",
              "      <td>1</td>\n",
              "      <td>0.196364</td>\n",
              "      <td>0.189405</td>\n",
              "      <td>0.437273</td>\n",
              "      <td>0.248309</td>\n",
              "      <td>120</td>\n",
              "      <td>1229</td>\n",
              "      <td>...</td>\n",
              "      <td>0</td>\n",
              "      <td>1</td>\n",
              "      <td>0</td>\n",
              "      <td>0</td>\n",
              "      <td>1</td>\n",
              "      <td>1</td>\n",
              "      <td>0</td>\n",
              "      <td>0</td>\n",
              "      <td>1</td>\n",
              "      <td>0</td>\n",
              "    </tr>\n",
              "    <tr>\n",
              "      <th>3</th>\n",
              "      <td>4</td>\n",
              "      <td>2011-01-04</td>\n",
              "      <td>1</td>\n",
              "      <td>2</td>\n",
              "      <td>0.200000</td>\n",
              "      <td>0.212122</td>\n",
              "      <td>0.590435</td>\n",
              "      <td>0.160296</td>\n",
              "      <td>108</td>\n",
              "      <td>1454</td>\n",
              "      <td>...</td>\n",
              "      <td>0</td>\n",
              "      <td>1</td>\n",
              "      <td>0</td>\n",
              "      <td>0</td>\n",
              "      <td>1</td>\n",
              "      <td>1</td>\n",
              "      <td>0</td>\n",
              "      <td>0</td>\n",
              "      <td>1</td>\n",
              "      <td>0</td>\n",
              "    </tr>\n",
              "    <tr>\n",
              "      <th>4</th>\n",
              "      <td>5</td>\n",
              "      <td>2011-01-05</td>\n",
              "      <td>1</td>\n",
              "      <td>3</td>\n",
              "      <td>0.226957</td>\n",
              "      <td>0.229270</td>\n",
              "      <td>0.436957</td>\n",
              "      <td>0.186900</td>\n",
              "      <td>82</td>\n",
              "      <td>1518</td>\n",
              "      <td>...</td>\n",
              "      <td>0</td>\n",
              "      <td>1</td>\n",
              "      <td>0</td>\n",
              "      <td>0</td>\n",
              "      <td>1</td>\n",
              "      <td>1</td>\n",
              "      <td>0</td>\n",
              "      <td>0</td>\n",
              "      <td>1</td>\n",
              "      <td>0</td>\n",
              "    </tr>\n",
              "  </tbody>\n",
              "</table>\n",
              "<p>5 rows × 24 columns</p>\n",
              "</div>\n",
              "      <button class=\"colab-df-convert\" onclick=\"convertToInteractive('df-e3f86308-16ae-45d3-9b38-1a4e4f98d040')\"\n",
              "              title=\"Convert this dataframe to an interactive table.\"\n",
              "              style=\"display:none;\">\n",
              "        \n",
              "  <svg xmlns=\"http://www.w3.org/2000/svg\" height=\"24px\"viewBox=\"0 0 24 24\"\n",
              "       width=\"24px\">\n",
              "    <path d=\"M0 0h24v24H0V0z\" fill=\"none\"/>\n",
              "    <path d=\"M18.56 5.44l.94 2.06.94-2.06 2.06-.94-2.06-.94-.94-2.06-.94 2.06-2.06.94zm-11 1L8.5 8.5l.94-2.06 2.06-.94-2.06-.94L8.5 2.5l-.94 2.06-2.06.94zm10 10l.94 2.06.94-2.06 2.06-.94-2.06-.94-.94-2.06-.94 2.06-2.06.94z\"/><path d=\"M17.41 7.96l-1.37-1.37c-.4-.4-.92-.59-1.43-.59-.52 0-1.04.2-1.43.59L10.3 9.45l-7.72 7.72c-.78.78-.78 2.05 0 2.83L4 21.41c.39.39.9.59 1.41.59.51 0 1.02-.2 1.41-.59l7.78-7.78 2.81-2.81c.8-.78.8-2.07 0-2.86zM5.41 20L4 18.59l7.72-7.72 1.47 1.35L5.41 20z\"/>\n",
              "  </svg>\n",
              "      </button>\n",
              "      \n",
              "  <style>\n",
              "    .colab-df-container {\n",
              "      display:flex;\n",
              "      flex-wrap:wrap;\n",
              "      gap: 12px;\n",
              "    }\n",
              "\n",
              "    .colab-df-convert {\n",
              "      background-color: #E8F0FE;\n",
              "      border: none;\n",
              "      border-radius: 50%;\n",
              "      cursor: pointer;\n",
              "      display: none;\n",
              "      fill: #1967D2;\n",
              "      height: 32px;\n",
              "      padding: 0 0 0 0;\n",
              "      width: 32px;\n",
              "    }\n",
              "\n",
              "    .colab-df-convert:hover {\n",
              "      background-color: #E2EBFA;\n",
              "      box-shadow: 0px 1px 2px rgba(60, 64, 67, 0.3), 0px 1px 3px 1px rgba(60, 64, 67, 0.15);\n",
              "      fill: #174EA6;\n",
              "    }\n",
              "\n",
              "    [theme=dark] .colab-df-convert {\n",
              "      background-color: #3B4455;\n",
              "      fill: #D2E3FC;\n",
              "    }\n",
              "\n",
              "    [theme=dark] .colab-df-convert:hover {\n",
              "      background-color: #434B5C;\n",
              "      box-shadow: 0px 1px 3px 1px rgba(0, 0, 0, 0.15);\n",
              "      filter: drop-shadow(0px 1px 2px rgba(0, 0, 0, 0.3));\n",
              "      fill: #FFFFFF;\n",
              "    }\n",
              "  </style>\n",
              "\n",
              "      <script>\n",
              "        const buttonEl =\n",
              "          document.querySelector('#df-e3f86308-16ae-45d3-9b38-1a4e4f98d040 button.colab-df-convert');\n",
              "        buttonEl.style.display =\n",
              "          google.colab.kernel.accessAllowed ? 'block' : 'none';\n",
              "\n",
              "        async function convertToInteractive(key) {\n",
              "          const element = document.querySelector('#df-e3f86308-16ae-45d3-9b38-1a4e4f98d040');\n",
              "          const dataTable =\n",
              "            await google.colab.kernel.invokeFunction('convertToInteractive',\n",
              "                                                     [key], {});\n",
              "          if (!dataTable) return;\n",
              "\n",
              "          const docLinkHtml = 'Like what you see? Visit the ' +\n",
              "            '<a target=\"_blank\" href=https://colab.research.google.com/notebooks/data_table.ipynb>data table notebook</a>'\n",
              "            + ' to learn more about interactive tables.';\n",
              "          element.innerHTML = '';\n",
              "          dataTable['output_type'] = 'display_data';\n",
              "          await google.colab.output.renderOutput(dataTable, element);\n",
              "          const docLink = document.createElement('div');\n",
              "          docLink.innerHTML = docLinkHtml;\n",
              "          element.appendChild(docLink);\n",
              "        }\n",
              "      </script>\n",
              "    </div>\n",
              "  </div>\n",
              "  "
            ]
          },
          "metadata": {},
          "execution_count": 27
        }
      ]
    },
    {
      "cell_type": "code",
      "source": [
        "encoded_df=encoded_df.drop('datetime',axis=1)"
      ],
      "metadata": {
        "id": "cQt8yGjTQTEv"
      },
      "execution_count": null,
      "outputs": []
    },
    {
      "cell_type": "code",
      "source": [
        "encoded_df"
      ],
      "metadata": {
        "colab": {
          "base_uri": "https://localhost:8080/",
          "height": 487
        },
        "id": "UCXq7vBHQbSr",
        "outputId": "a8cfa910-453a-4ac1-9ba8-67dec2d93987"
      },
      "execution_count": null,
      "outputs": [
        {
          "output_type": "execute_result",
          "data": {
            "text/plain": [
              "     rec_id month weekday      temp     atemp  humidity  windspeed  casual  \\\n",
              "0         1     1       6  0.344167  0.363625  0.805833   0.160446     331   \n",
              "1         2     1       0  0.363478  0.353739  0.696087   0.248539     131   \n",
              "2         3     1       1  0.196364  0.189405  0.437273   0.248309     120   \n",
              "3         4     1       2  0.200000  0.212122  0.590435   0.160296     108   \n",
              "4         5     1       3  0.226957  0.229270  0.436957   0.186900      82   \n",
              "..      ...   ...     ...       ...       ...       ...        ...     ...   \n",
              "726     727    12       4  0.254167  0.226642  0.652917   0.350133     247   \n",
              "727     728    12       5  0.253333  0.255046  0.590000   0.155471     644   \n",
              "728     729    12       6  0.253333  0.242400  0.752917   0.124383     159   \n",
              "729     730    12       0  0.255833  0.231700  0.483333   0.350754     364   \n",
              "730     731    12       1  0.215833  0.223487  0.577500   0.154846     439   \n",
              "\n",
              "     registered  total_count  ...  season_4  holiday_0  holiday_1  \\\n",
              "0           654          985  ...         0          1          0   \n",
              "1           670          801  ...         0          1          0   \n",
              "2          1229         1349  ...         0          1          0   \n",
              "3          1454         1562  ...         0          1          0   \n",
              "4          1518         1600  ...         0          1          0   \n",
              "..          ...          ...  ...       ...        ...        ...   \n",
              "726        1867         2114  ...         0          1          0   \n",
              "727        2451         3095  ...         0          1          0   \n",
              "728        1182         1341  ...         0          1          0   \n",
              "729        1432         1796  ...         0          1          0   \n",
              "730        2290         2729  ...         0          1          0   \n",
              "\n",
              "     workingday_0  workingday_1  weather_condition_1  weather_condition_2  \\\n",
              "0               1             0                    0                    1   \n",
              "1               1             0                    0                    1   \n",
              "2               0             1                    1                    0   \n",
              "3               0             1                    1                    0   \n",
              "4               0             1                    1                    0   \n",
              "..            ...           ...                  ...                  ...   \n",
              "726             0             1                    0                    1   \n",
              "727             0             1                    0                    1   \n",
              "728             1             0                    0                    1   \n",
              "729             1             0                    1                    0   \n",
              "730             0             1                    0                    1   \n",
              "\n",
              "     weather_condition_3  year_0  year_1  \n",
              "0                      0       1       0  \n",
              "1                      0       1       0  \n",
              "2                      0       1       0  \n",
              "3                      0       1       0  \n",
              "4                      0       1       0  \n",
              "..                   ...     ...     ...  \n",
              "726                    0       0       1  \n",
              "727                    0       0       1  \n",
              "728                    0       0       1  \n",
              "729                    0       0       1  \n",
              "730                    0       0       1  \n",
              "\n",
              "[731 rows x 23 columns]"
            ],
            "text/html": [
              "\n",
              "  <div id=\"df-a6407f07-f846-4259-b143-6cffd50768b9\">\n",
              "    <div class=\"colab-df-container\">\n",
              "      <div>\n",
              "<style scoped>\n",
              "    .dataframe tbody tr th:only-of-type {\n",
              "        vertical-align: middle;\n",
              "    }\n",
              "\n",
              "    .dataframe tbody tr th {\n",
              "        vertical-align: top;\n",
              "    }\n",
              "\n",
              "    .dataframe thead th {\n",
              "        text-align: right;\n",
              "    }\n",
              "</style>\n",
              "<table border=\"1\" class=\"dataframe\">\n",
              "  <thead>\n",
              "    <tr style=\"text-align: right;\">\n",
              "      <th></th>\n",
              "      <th>rec_id</th>\n",
              "      <th>month</th>\n",
              "      <th>weekday</th>\n",
              "      <th>temp</th>\n",
              "      <th>atemp</th>\n",
              "      <th>humidity</th>\n",
              "      <th>windspeed</th>\n",
              "      <th>casual</th>\n",
              "      <th>registered</th>\n",
              "      <th>total_count</th>\n",
              "      <th>...</th>\n",
              "      <th>season_4</th>\n",
              "      <th>holiday_0</th>\n",
              "      <th>holiday_1</th>\n",
              "      <th>workingday_0</th>\n",
              "      <th>workingday_1</th>\n",
              "      <th>weather_condition_1</th>\n",
              "      <th>weather_condition_2</th>\n",
              "      <th>weather_condition_3</th>\n",
              "      <th>year_0</th>\n",
              "      <th>year_1</th>\n",
              "    </tr>\n",
              "  </thead>\n",
              "  <tbody>\n",
              "    <tr>\n",
              "      <th>0</th>\n",
              "      <td>1</td>\n",
              "      <td>1</td>\n",
              "      <td>6</td>\n",
              "      <td>0.344167</td>\n",
              "      <td>0.363625</td>\n",
              "      <td>0.805833</td>\n",
              "      <td>0.160446</td>\n",
              "      <td>331</td>\n",
              "      <td>654</td>\n",
              "      <td>985</td>\n",
              "      <td>...</td>\n",
              "      <td>0</td>\n",
              "      <td>1</td>\n",
              "      <td>0</td>\n",
              "      <td>1</td>\n",
              "      <td>0</td>\n",
              "      <td>0</td>\n",
              "      <td>1</td>\n",
              "      <td>0</td>\n",
              "      <td>1</td>\n",
              "      <td>0</td>\n",
              "    </tr>\n",
              "    <tr>\n",
              "      <th>1</th>\n",
              "      <td>2</td>\n",
              "      <td>1</td>\n",
              "      <td>0</td>\n",
              "      <td>0.363478</td>\n",
              "      <td>0.353739</td>\n",
              "      <td>0.696087</td>\n",
              "      <td>0.248539</td>\n",
              "      <td>131</td>\n",
              "      <td>670</td>\n",
              "      <td>801</td>\n",
              "      <td>...</td>\n",
              "      <td>0</td>\n",
              "      <td>1</td>\n",
              "      <td>0</td>\n",
              "      <td>1</td>\n",
              "      <td>0</td>\n",
              "      <td>0</td>\n",
              "      <td>1</td>\n",
              "      <td>0</td>\n",
              "      <td>1</td>\n",
              "      <td>0</td>\n",
              "    </tr>\n",
              "    <tr>\n",
              "      <th>2</th>\n",
              "      <td>3</td>\n",
              "      <td>1</td>\n",
              "      <td>1</td>\n",
              "      <td>0.196364</td>\n",
              "      <td>0.189405</td>\n",
              "      <td>0.437273</td>\n",
              "      <td>0.248309</td>\n",
              "      <td>120</td>\n",
              "      <td>1229</td>\n",
              "      <td>1349</td>\n",
              "      <td>...</td>\n",
              "      <td>0</td>\n",
              "      <td>1</td>\n",
              "      <td>0</td>\n",
              "      <td>0</td>\n",
              "      <td>1</td>\n",
              "      <td>1</td>\n",
              "      <td>0</td>\n",
              "      <td>0</td>\n",
              "      <td>1</td>\n",
              "      <td>0</td>\n",
              "    </tr>\n",
              "    <tr>\n",
              "      <th>3</th>\n",
              "      <td>4</td>\n",
              "      <td>1</td>\n",
              "      <td>2</td>\n",
              "      <td>0.200000</td>\n",
              "      <td>0.212122</td>\n",
              "      <td>0.590435</td>\n",
              "      <td>0.160296</td>\n",
              "      <td>108</td>\n",
              "      <td>1454</td>\n",
              "      <td>1562</td>\n",
              "      <td>...</td>\n",
              "      <td>0</td>\n",
              "      <td>1</td>\n",
              "      <td>0</td>\n",
              "      <td>0</td>\n",
              "      <td>1</td>\n",
              "      <td>1</td>\n",
              "      <td>0</td>\n",
              "      <td>0</td>\n",
              "      <td>1</td>\n",
              "      <td>0</td>\n",
              "    </tr>\n",
              "    <tr>\n",
              "      <th>4</th>\n",
              "      <td>5</td>\n",
              "      <td>1</td>\n",
              "      <td>3</td>\n",
              "      <td>0.226957</td>\n",
              "      <td>0.229270</td>\n",
              "      <td>0.436957</td>\n",
              "      <td>0.186900</td>\n",
              "      <td>82</td>\n",
              "      <td>1518</td>\n",
              "      <td>1600</td>\n",
              "      <td>...</td>\n",
              "      <td>0</td>\n",
              "      <td>1</td>\n",
              "      <td>0</td>\n",
              "      <td>0</td>\n",
              "      <td>1</td>\n",
              "      <td>1</td>\n",
              "      <td>0</td>\n",
              "      <td>0</td>\n",
              "      <td>1</td>\n",
              "      <td>0</td>\n",
              "    </tr>\n",
              "    <tr>\n",
              "      <th>...</th>\n",
              "      <td>...</td>\n",
              "      <td>...</td>\n",
              "      <td>...</td>\n",
              "      <td>...</td>\n",
              "      <td>...</td>\n",
              "      <td>...</td>\n",
              "      <td>...</td>\n",
              "      <td>...</td>\n",
              "      <td>...</td>\n",
              "      <td>...</td>\n",
              "      <td>...</td>\n",
              "      <td>...</td>\n",
              "      <td>...</td>\n",
              "      <td>...</td>\n",
              "      <td>...</td>\n",
              "      <td>...</td>\n",
              "      <td>...</td>\n",
              "      <td>...</td>\n",
              "      <td>...</td>\n",
              "      <td>...</td>\n",
              "      <td>...</td>\n",
              "    </tr>\n",
              "    <tr>\n",
              "      <th>726</th>\n",
              "      <td>727</td>\n",
              "      <td>12</td>\n",
              "      <td>4</td>\n",
              "      <td>0.254167</td>\n",
              "      <td>0.226642</td>\n",
              "      <td>0.652917</td>\n",
              "      <td>0.350133</td>\n",
              "      <td>247</td>\n",
              "      <td>1867</td>\n",
              "      <td>2114</td>\n",
              "      <td>...</td>\n",
              "      <td>0</td>\n",
              "      <td>1</td>\n",
              "      <td>0</td>\n",
              "      <td>0</td>\n",
              "      <td>1</td>\n",
              "      <td>0</td>\n",
              "      <td>1</td>\n",
              "      <td>0</td>\n",
              "      <td>0</td>\n",
              "      <td>1</td>\n",
              "    </tr>\n",
              "    <tr>\n",
              "      <th>727</th>\n",
              "      <td>728</td>\n",
              "      <td>12</td>\n",
              "      <td>5</td>\n",
              "      <td>0.253333</td>\n",
              "      <td>0.255046</td>\n",
              "      <td>0.590000</td>\n",
              "      <td>0.155471</td>\n",
              "      <td>644</td>\n",
              "      <td>2451</td>\n",
              "      <td>3095</td>\n",
              "      <td>...</td>\n",
              "      <td>0</td>\n",
              "      <td>1</td>\n",
              "      <td>0</td>\n",
              "      <td>0</td>\n",
              "      <td>1</td>\n",
              "      <td>0</td>\n",
              "      <td>1</td>\n",
              "      <td>0</td>\n",
              "      <td>0</td>\n",
              "      <td>1</td>\n",
              "    </tr>\n",
              "    <tr>\n",
              "      <th>728</th>\n",
              "      <td>729</td>\n",
              "      <td>12</td>\n",
              "      <td>6</td>\n",
              "      <td>0.253333</td>\n",
              "      <td>0.242400</td>\n",
              "      <td>0.752917</td>\n",
              "      <td>0.124383</td>\n",
              "      <td>159</td>\n",
              "      <td>1182</td>\n",
              "      <td>1341</td>\n",
              "      <td>...</td>\n",
              "      <td>0</td>\n",
              "      <td>1</td>\n",
              "      <td>0</td>\n",
              "      <td>1</td>\n",
              "      <td>0</td>\n",
              "      <td>0</td>\n",
              "      <td>1</td>\n",
              "      <td>0</td>\n",
              "      <td>0</td>\n",
              "      <td>1</td>\n",
              "    </tr>\n",
              "    <tr>\n",
              "      <th>729</th>\n",
              "      <td>730</td>\n",
              "      <td>12</td>\n",
              "      <td>0</td>\n",
              "      <td>0.255833</td>\n",
              "      <td>0.231700</td>\n",
              "      <td>0.483333</td>\n",
              "      <td>0.350754</td>\n",
              "      <td>364</td>\n",
              "      <td>1432</td>\n",
              "      <td>1796</td>\n",
              "      <td>...</td>\n",
              "      <td>0</td>\n",
              "      <td>1</td>\n",
              "      <td>0</td>\n",
              "      <td>1</td>\n",
              "      <td>0</td>\n",
              "      <td>1</td>\n",
              "      <td>0</td>\n",
              "      <td>0</td>\n",
              "      <td>0</td>\n",
              "      <td>1</td>\n",
              "    </tr>\n",
              "    <tr>\n",
              "      <th>730</th>\n",
              "      <td>731</td>\n",
              "      <td>12</td>\n",
              "      <td>1</td>\n",
              "      <td>0.215833</td>\n",
              "      <td>0.223487</td>\n",
              "      <td>0.577500</td>\n",
              "      <td>0.154846</td>\n",
              "      <td>439</td>\n",
              "      <td>2290</td>\n",
              "      <td>2729</td>\n",
              "      <td>...</td>\n",
              "      <td>0</td>\n",
              "      <td>1</td>\n",
              "      <td>0</td>\n",
              "      <td>0</td>\n",
              "      <td>1</td>\n",
              "      <td>0</td>\n",
              "      <td>1</td>\n",
              "      <td>0</td>\n",
              "      <td>0</td>\n",
              "      <td>1</td>\n",
              "    </tr>\n",
              "  </tbody>\n",
              "</table>\n",
              "<p>731 rows × 23 columns</p>\n",
              "</div>\n",
              "      <button class=\"colab-df-convert\" onclick=\"convertToInteractive('df-a6407f07-f846-4259-b143-6cffd50768b9')\"\n",
              "              title=\"Convert this dataframe to an interactive table.\"\n",
              "              style=\"display:none;\">\n",
              "        \n",
              "  <svg xmlns=\"http://www.w3.org/2000/svg\" height=\"24px\"viewBox=\"0 0 24 24\"\n",
              "       width=\"24px\">\n",
              "    <path d=\"M0 0h24v24H0V0z\" fill=\"none\"/>\n",
              "    <path d=\"M18.56 5.44l.94 2.06.94-2.06 2.06-.94-2.06-.94-.94-2.06-.94 2.06-2.06.94zm-11 1L8.5 8.5l.94-2.06 2.06-.94-2.06-.94L8.5 2.5l-.94 2.06-2.06.94zm10 10l.94 2.06.94-2.06 2.06-.94-2.06-.94-.94-2.06-.94 2.06-2.06.94z\"/><path d=\"M17.41 7.96l-1.37-1.37c-.4-.4-.92-.59-1.43-.59-.52 0-1.04.2-1.43.59L10.3 9.45l-7.72 7.72c-.78.78-.78 2.05 0 2.83L4 21.41c.39.39.9.59 1.41.59.51 0 1.02-.2 1.41-.59l7.78-7.78 2.81-2.81c.8-.78.8-2.07 0-2.86zM5.41 20L4 18.59l7.72-7.72 1.47 1.35L5.41 20z\"/>\n",
              "  </svg>\n",
              "      </button>\n",
              "      \n",
              "  <style>\n",
              "    .colab-df-container {\n",
              "      display:flex;\n",
              "      flex-wrap:wrap;\n",
              "      gap: 12px;\n",
              "    }\n",
              "\n",
              "    .colab-df-convert {\n",
              "      background-color: #E8F0FE;\n",
              "      border: none;\n",
              "      border-radius: 50%;\n",
              "      cursor: pointer;\n",
              "      display: none;\n",
              "      fill: #1967D2;\n",
              "      height: 32px;\n",
              "      padding: 0 0 0 0;\n",
              "      width: 32px;\n",
              "    }\n",
              "\n",
              "    .colab-df-convert:hover {\n",
              "      background-color: #E2EBFA;\n",
              "      box-shadow: 0px 1px 2px rgba(60, 64, 67, 0.3), 0px 1px 3px 1px rgba(60, 64, 67, 0.15);\n",
              "      fill: #174EA6;\n",
              "    }\n",
              "\n",
              "    [theme=dark] .colab-df-convert {\n",
              "      background-color: #3B4455;\n",
              "      fill: #D2E3FC;\n",
              "    }\n",
              "\n",
              "    [theme=dark] .colab-df-convert:hover {\n",
              "      background-color: #434B5C;\n",
              "      box-shadow: 0px 1px 3px 1px rgba(0, 0, 0, 0.15);\n",
              "      filter: drop-shadow(0px 1px 2px rgba(0, 0, 0, 0.3));\n",
              "      fill: #FFFFFF;\n",
              "    }\n",
              "  </style>\n",
              "\n",
              "      <script>\n",
              "        const buttonEl =\n",
              "          document.querySelector('#df-a6407f07-f846-4259-b143-6cffd50768b9 button.colab-df-convert');\n",
              "        buttonEl.style.display =\n",
              "          google.colab.kernel.accessAllowed ? 'block' : 'none';\n",
              "\n",
              "        async function convertToInteractive(key) {\n",
              "          const element = document.querySelector('#df-a6407f07-f846-4259-b143-6cffd50768b9');\n",
              "          const dataTable =\n",
              "            await google.colab.kernel.invokeFunction('convertToInteractive',\n",
              "                                                     [key], {});\n",
              "          if (!dataTable) return;\n",
              "\n",
              "          const docLinkHtml = 'Like what you see? Visit the ' +\n",
              "            '<a target=\"_blank\" href=https://colab.research.google.com/notebooks/data_table.ipynb>data table notebook</a>'\n",
              "            + ' to learn more about interactive tables.';\n",
              "          element.innerHTML = '';\n",
              "          dataTable['output_type'] = 'display_data';\n",
              "          await google.colab.output.renderOutput(dataTable, element);\n",
              "          const docLink = document.createElement('div');\n",
              "          docLink.innerHTML = docLinkHtml;\n",
              "          element.appendChild(docLink);\n",
              "        }\n",
              "      </script>\n",
              "    </div>\n",
              "  </div>\n",
              "  "
            ]
          },
          "metadata": {},
          "execution_count": 29
        }
      ]
    },
    {
      "cell_type": "code",
      "source": [
        "encoded_df=encoded_df[['rec_id'\t,'month'\t,'weekday'\t,'temp'\t,'atemp'\t,'humidity',\t'windspeed',\t'casual',\t'registered'\t\t,'season_1',\t'season_2'\t,'season_3',\t'season_4',\t'holiday_0'\t,'holiday_1'\t,'workingday_0',\t'workingday_1'\t,'weather_condition_1'\t,'weather_condition_2'\t,'weather_condition_3',\t'year_0','year_1','total_count']]"
      ],
      "metadata": {
        "id": "UN_gaQ-xUKJy"
      },
      "execution_count": null,
      "outputs": []
    },
    {
      "cell_type": "markdown",
      "source": [
        ""
      ],
      "metadata": {
        "id": "ORklhoE3UJpj"
      }
    },
    {
      "cell_type": "markdown",
      "source": [
        "**# 5. Splitting data**"
      ],
      "metadata": {
        "id": "Rr5kcp8DREr6"
      }
    },
    {
      "cell_type": "code",
      "source": [
        "from sklearn import preprocessing,metrics,linear_model\n",
        "from sklearn.model_selection import cross_val_score,cross_val_predict,train_test_split"
      ],
      "metadata": {
        "id": "YoWDzeBTQetA"
      },
      "execution_count": null,
      "outputs": []
    },
    {
      "cell_type": "code",
      "source": [
        "x= encoded_df.iloc[:,0:-1] ## Independent Features\n",
        "y= encoded_df.iloc[:,-1] ## Dependent Varibales"
      ],
      "metadata": {
        "id": "vyk59QuDRUGU"
      },
      "execution_count": null,
      "outputs": []
    },
    {
      "cell_type": "code",
      "source": [
        "X_train,X_test,y_train,y_test=train_test_split(x,y,test_size=0.3, random_state=42)"
      ],
      "metadata": {
        "id": "YwE4AAbqRXbn"
      },
      "execution_count": null,
      "outputs": []
    },
    {
      "cell_type": "code",
      "source": [
        "x"
      ],
      "metadata": {
        "colab": {
          "base_uri": "https://localhost:8080/",
          "height": 487
        },
        "id": "_y2zdV2IRbCv",
        "outputId": "987b1386-f084-4385-a3db-1a6ce9b24d72"
      },
      "execution_count": null,
      "outputs": [
        {
          "output_type": "execute_result",
          "data": {
            "text/plain": [
              "     rec_id month weekday      temp     atemp  humidity  windspeed  casual  \\\n",
              "0         1     1       6  0.344167  0.363625  0.805833   0.160446     331   \n",
              "1         2     1       0  0.363478  0.353739  0.696087   0.248539     131   \n",
              "2         3     1       1  0.196364  0.189405  0.437273   0.248309     120   \n",
              "3         4     1       2  0.200000  0.212122  0.590435   0.160296     108   \n",
              "4         5     1       3  0.226957  0.229270  0.436957   0.186900      82   \n",
              "..      ...   ...     ...       ...       ...       ...        ...     ...   \n",
              "726     727    12       4  0.254167  0.226642  0.652917   0.350133     247   \n",
              "727     728    12       5  0.253333  0.255046  0.590000   0.155471     644   \n",
              "728     729    12       6  0.253333  0.242400  0.752917   0.124383     159   \n",
              "729     730    12       0  0.255833  0.231700  0.483333   0.350754     364   \n",
              "730     731    12       1  0.215833  0.223487  0.577500   0.154846     439   \n",
              "\n",
              "     registered  season_1  ...  season_4  holiday_0  holiday_1  workingday_0  \\\n",
              "0           654         1  ...         0          1          0             1   \n",
              "1           670         1  ...         0          1          0             1   \n",
              "2          1229         1  ...         0          1          0             0   \n",
              "3          1454         1  ...         0          1          0             0   \n",
              "4          1518         1  ...         0          1          0             0   \n",
              "..          ...       ...  ...       ...        ...        ...           ...   \n",
              "726        1867         1  ...         0          1          0             0   \n",
              "727        2451         1  ...         0          1          0             0   \n",
              "728        1182         1  ...         0          1          0             1   \n",
              "729        1432         1  ...         0          1          0             1   \n",
              "730        2290         1  ...         0          1          0             0   \n",
              "\n",
              "     workingday_1  weather_condition_1  weather_condition_2  \\\n",
              "0               0                    0                    1   \n",
              "1               0                    0                    1   \n",
              "2               1                    1                    0   \n",
              "3               1                    1                    0   \n",
              "4               1                    1                    0   \n",
              "..            ...                  ...                  ...   \n",
              "726             1                    0                    1   \n",
              "727             1                    0                    1   \n",
              "728             0                    0                    1   \n",
              "729             0                    1                    0   \n",
              "730             1                    0                    1   \n",
              "\n",
              "     weather_condition_3  year_0  year_1  \n",
              "0                      0       1       0  \n",
              "1                      0       1       0  \n",
              "2                      0       1       0  \n",
              "3                      0       1       0  \n",
              "4                      0       1       0  \n",
              "..                   ...     ...     ...  \n",
              "726                    0       0       1  \n",
              "727                    0       0       1  \n",
              "728                    0       0       1  \n",
              "729                    0       0       1  \n",
              "730                    0       0       1  \n",
              "\n",
              "[731 rows x 22 columns]"
            ],
            "text/html": [
              "\n",
              "  <div id=\"df-8715ba31-c9c2-4618-bfb3-ef61ddb2d757\">\n",
              "    <div class=\"colab-df-container\">\n",
              "      <div>\n",
              "<style scoped>\n",
              "    .dataframe tbody tr th:only-of-type {\n",
              "        vertical-align: middle;\n",
              "    }\n",
              "\n",
              "    .dataframe tbody tr th {\n",
              "        vertical-align: top;\n",
              "    }\n",
              "\n",
              "    .dataframe thead th {\n",
              "        text-align: right;\n",
              "    }\n",
              "</style>\n",
              "<table border=\"1\" class=\"dataframe\">\n",
              "  <thead>\n",
              "    <tr style=\"text-align: right;\">\n",
              "      <th></th>\n",
              "      <th>rec_id</th>\n",
              "      <th>month</th>\n",
              "      <th>weekday</th>\n",
              "      <th>temp</th>\n",
              "      <th>atemp</th>\n",
              "      <th>humidity</th>\n",
              "      <th>windspeed</th>\n",
              "      <th>casual</th>\n",
              "      <th>registered</th>\n",
              "      <th>season_1</th>\n",
              "      <th>...</th>\n",
              "      <th>season_4</th>\n",
              "      <th>holiday_0</th>\n",
              "      <th>holiday_1</th>\n",
              "      <th>workingday_0</th>\n",
              "      <th>workingday_1</th>\n",
              "      <th>weather_condition_1</th>\n",
              "      <th>weather_condition_2</th>\n",
              "      <th>weather_condition_3</th>\n",
              "      <th>year_0</th>\n",
              "      <th>year_1</th>\n",
              "    </tr>\n",
              "  </thead>\n",
              "  <tbody>\n",
              "    <tr>\n",
              "      <th>0</th>\n",
              "      <td>1</td>\n",
              "      <td>1</td>\n",
              "      <td>6</td>\n",
              "      <td>0.344167</td>\n",
              "      <td>0.363625</td>\n",
              "      <td>0.805833</td>\n",
              "      <td>0.160446</td>\n",
              "      <td>331</td>\n",
              "      <td>654</td>\n",
              "      <td>1</td>\n",
              "      <td>...</td>\n",
              "      <td>0</td>\n",
              "      <td>1</td>\n",
              "      <td>0</td>\n",
              "      <td>1</td>\n",
              "      <td>0</td>\n",
              "      <td>0</td>\n",
              "      <td>1</td>\n",
              "      <td>0</td>\n",
              "      <td>1</td>\n",
              "      <td>0</td>\n",
              "    </tr>\n",
              "    <tr>\n",
              "      <th>1</th>\n",
              "      <td>2</td>\n",
              "      <td>1</td>\n",
              "      <td>0</td>\n",
              "      <td>0.363478</td>\n",
              "      <td>0.353739</td>\n",
              "      <td>0.696087</td>\n",
              "      <td>0.248539</td>\n",
              "      <td>131</td>\n",
              "      <td>670</td>\n",
              "      <td>1</td>\n",
              "      <td>...</td>\n",
              "      <td>0</td>\n",
              "      <td>1</td>\n",
              "      <td>0</td>\n",
              "      <td>1</td>\n",
              "      <td>0</td>\n",
              "      <td>0</td>\n",
              "      <td>1</td>\n",
              "      <td>0</td>\n",
              "      <td>1</td>\n",
              "      <td>0</td>\n",
              "    </tr>\n",
              "    <tr>\n",
              "      <th>2</th>\n",
              "      <td>3</td>\n",
              "      <td>1</td>\n",
              "      <td>1</td>\n",
              "      <td>0.196364</td>\n",
              "      <td>0.189405</td>\n",
              "      <td>0.437273</td>\n",
              "      <td>0.248309</td>\n",
              "      <td>120</td>\n",
              "      <td>1229</td>\n",
              "      <td>1</td>\n",
              "      <td>...</td>\n",
              "      <td>0</td>\n",
              "      <td>1</td>\n",
              "      <td>0</td>\n",
              "      <td>0</td>\n",
              "      <td>1</td>\n",
              "      <td>1</td>\n",
              "      <td>0</td>\n",
              "      <td>0</td>\n",
              "      <td>1</td>\n",
              "      <td>0</td>\n",
              "    </tr>\n",
              "    <tr>\n",
              "      <th>3</th>\n",
              "      <td>4</td>\n",
              "      <td>1</td>\n",
              "      <td>2</td>\n",
              "      <td>0.200000</td>\n",
              "      <td>0.212122</td>\n",
              "      <td>0.590435</td>\n",
              "      <td>0.160296</td>\n",
              "      <td>108</td>\n",
              "      <td>1454</td>\n",
              "      <td>1</td>\n",
              "      <td>...</td>\n",
              "      <td>0</td>\n",
              "      <td>1</td>\n",
              "      <td>0</td>\n",
              "      <td>0</td>\n",
              "      <td>1</td>\n",
              "      <td>1</td>\n",
              "      <td>0</td>\n",
              "      <td>0</td>\n",
              "      <td>1</td>\n",
              "      <td>0</td>\n",
              "    </tr>\n",
              "    <tr>\n",
              "      <th>4</th>\n",
              "      <td>5</td>\n",
              "      <td>1</td>\n",
              "      <td>3</td>\n",
              "      <td>0.226957</td>\n",
              "      <td>0.229270</td>\n",
              "      <td>0.436957</td>\n",
              "      <td>0.186900</td>\n",
              "      <td>82</td>\n",
              "      <td>1518</td>\n",
              "      <td>1</td>\n",
              "      <td>...</td>\n",
              "      <td>0</td>\n",
              "      <td>1</td>\n",
              "      <td>0</td>\n",
              "      <td>0</td>\n",
              "      <td>1</td>\n",
              "      <td>1</td>\n",
              "      <td>0</td>\n",
              "      <td>0</td>\n",
              "      <td>1</td>\n",
              "      <td>0</td>\n",
              "    </tr>\n",
              "    <tr>\n",
              "      <th>...</th>\n",
              "      <td>...</td>\n",
              "      <td>...</td>\n",
              "      <td>...</td>\n",
              "      <td>...</td>\n",
              "      <td>...</td>\n",
              "      <td>...</td>\n",
              "      <td>...</td>\n",
              "      <td>...</td>\n",
              "      <td>...</td>\n",
              "      <td>...</td>\n",
              "      <td>...</td>\n",
              "      <td>...</td>\n",
              "      <td>...</td>\n",
              "      <td>...</td>\n",
              "      <td>...</td>\n",
              "      <td>...</td>\n",
              "      <td>...</td>\n",
              "      <td>...</td>\n",
              "      <td>...</td>\n",
              "      <td>...</td>\n",
              "      <td>...</td>\n",
              "    </tr>\n",
              "    <tr>\n",
              "      <th>726</th>\n",
              "      <td>727</td>\n",
              "      <td>12</td>\n",
              "      <td>4</td>\n",
              "      <td>0.254167</td>\n",
              "      <td>0.226642</td>\n",
              "      <td>0.652917</td>\n",
              "      <td>0.350133</td>\n",
              "      <td>247</td>\n",
              "      <td>1867</td>\n",
              "      <td>1</td>\n",
              "      <td>...</td>\n",
              "      <td>0</td>\n",
              "      <td>1</td>\n",
              "      <td>0</td>\n",
              "      <td>0</td>\n",
              "      <td>1</td>\n",
              "      <td>0</td>\n",
              "      <td>1</td>\n",
              "      <td>0</td>\n",
              "      <td>0</td>\n",
              "      <td>1</td>\n",
              "    </tr>\n",
              "    <tr>\n",
              "      <th>727</th>\n",
              "      <td>728</td>\n",
              "      <td>12</td>\n",
              "      <td>5</td>\n",
              "      <td>0.253333</td>\n",
              "      <td>0.255046</td>\n",
              "      <td>0.590000</td>\n",
              "      <td>0.155471</td>\n",
              "      <td>644</td>\n",
              "      <td>2451</td>\n",
              "      <td>1</td>\n",
              "      <td>...</td>\n",
              "      <td>0</td>\n",
              "      <td>1</td>\n",
              "      <td>0</td>\n",
              "      <td>0</td>\n",
              "      <td>1</td>\n",
              "      <td>0</td>\n",
              "      <td>1</td>\n",
              "      <td>0</td>\n",
              "      <td>0</td>\n",
              "      <td>1</td>\n",
              "    </tr>\n",
              "    <tr>\n",
              "      <th>728</th>\n",
              "      <td>729</td>\n",
              "      <td>12</td>\n",
              "      <td>6</td>\n",
              "      <td>0.253333</td>\n",
              "      <td>0.242400</td>\n",
              "      <td>0.752917</td>\n",
              "      <td>0.124383</td>\n",
              "      <td>159</td>\n",
              "      <td>1182</td>\n",
              "      <td>1</td>\n",
              "      <td>...</td>\n",
              "      <td>0</td>\n",
              "      <td>1</td>\n",
              "      <td>0</td>\n",
              "      <td>1</td>\n",
              "      <td>0</td>\n",
              "      <td>0</td>\n",
              "      <td>1</td>\n",
              "      <td>0</td>\n",
              "      <td>0</td>\n",
              "      <td>1</td>\n",
              "    </tr>\n",
              "    <tr>\n",
              "      <th>729</th>\n",
              "      <td>730</td>\n",
              "      <td>12</td>\n",
              "      <td>0</td>\n",
              "      <td>0.255833</td>\n",
              "      <td>0.231700</td>\n",
              "      <td>0.483333</td>\n",
              "      <td>0.350754</td>\n",
              "      <td>364</td>\n",
              "      <td>1432</td>\n",
              "      <td>1</td>\n",
              "      <td>...</td>\n",
              "      <td>0</td>\n",
              "      <td>1</td>\n",
              "      <td>0</td>\n",
              "      <td>1</td>\n",
              "      <td>0</td>\n",
              "      <td>1</td>\n",
              "      <td>0</td>\n",
              "      <td>0</td>\n",
              "      <td>0</td>\n",
              "      <td>1</td>\n",
              "    </tr>\n",
              "    <tr>\n",
              "      <th>730</th>\n",
              "      <td>731</td>\n",
              "      <td>12</td>\n",
              "      <td>1</td>\n",
              "      <td>0.215833</td>\n",
              "      <td>0.223487</td>\n",
              "      <td>0.577500</td>\n",
              "      <td>0.154846</td>\n",
              "      <td>439</td>\n",
              "      <td>2290</td>\n",
              "      <td>1</td>\n",
              "      <td>...</td>\n",
              "      <td>0</td>\n",
              "      <td>1</td>\n",
              "      <td>0</td>\n",
              "      <td>0</td>\n",
              "      <td>1</td>\n",
              "      <td>0</td>\n",
              "      <td>1</td>\n",
              "      <td>0</td>\n",
              "      <td>0</td>\n",
              "      <td>1</td>\n",
              "    </tr>\n",
              "  </tbody>\n",
              "</table>\n",
              "<p>731 rows × 22 columns</p>\n",
              "</div>\n",
              "      <button class=\"colab-df-convert\" onclick=\"convertToInteractive('df-8715ba31-c9c2-4618-bfb3-ef61ddb2d757')\"\n",
              "              title=\"Convert this dataframe to an interactive table.\"\n",
              "              style=\"display:none;\">\n",
              "        \n",
              "  <svg xmlns=\"http://www.w3.org/2000/svg\" height=\"24px\"viewBox=\"0 0 24 24\"\n",
              "       width=\"24px\">\n",
              "    <path d=\"M0 0h24v24H0V0z\" fill=\"none\"/>\n",
              "    <path d=\"M18.56 5.44l.94 2.06.94-2.06 2.06-.94-2.06-.94-.94-2.06-.94 2.06-2.06.94zm-11 1L8.5 8.5l.94-2.06 2.06-.94-2.06-.94L8.5 2.5l-.94 2.06-2.06.94zm10 10l.94 2.06.94-2.06 2.06-.94-2.06-.94-.94-2.06-.94 2.06-2.06.94z\"/><path d=\"M17.41 7.96l-1.37-1.37c-.4-.4-.92-.59-1.43-.59-.52 0-1.04.2-1.43.59L10.3 9.45l-7.72 7.72c-.78.78-.78 2.05 0 2.83L4 21.41c.39.39.9.59 1.41.59.51 0 1.02-.2 1.41-.59l7.78-7.78 2.81-2.81c.8-.78.8-2.07 0-2.86zM5.41 20L4 18.59l7.72-7.72 1.47 1.35L5.41 20z\"/>\n",
              "  </svg>\n",
              "      </button>\n",
              "      \n",
              "  <style>\n",
              "    .colab-df-container {\n",
              "      display:flex;\n",
              "      flex-wrap:wrap;\n",
              "      gap: 12px;\n",
              "    }\n",
              "\n",
              "    .colab-df-convert {\n",
              "      background-color: #E8F0FE;\n",
              "      border: none;\n",
              "      border-radius: 50%;\n",
              "      cursor: pointer;\n",
              "      display: none;\n",
              "      fill: #1967D2;\n",
              "      height: 32px;\n",
              "      padding: 0 0 0 0;\n",
              "      width: 32px;\n",
              "    }\n",
              "\n",
              "    .colab-df-convert:hover {\n",
              "      background-color: #E2EBFA;\n",
              "      box-shadow: 0px 1px 2px rgba(60, 64, 67, 0.3), 0px 1px 3px 1px rgba(60, 64, 67, 0.15);\n",
              "      fill: #174EA6;\n",
              "    }\n",
              "\n",
              "    [theme=dark] .colab-df-convert {\n",
              "      background-color: #3B4455;\n",
              "      fill: #D2E3FC;\n",
              "    }\n",
              "\n",
              "    [theme=dark] .colab-df-convert:hover {\n",
              "      background-color: #434B5C;\n",
              "      box-shadow: 0px 1px 3px 1px rgba(0, 0, 0, 0.15);\n",
              "      filter: drop-shadow(0px 1px 2px rgba(0, 0, 0, 0.3));\n",
              "      fill: #FFFFFF;\n",
              "    }\n",
              "  </style>\n",
              "\n",
              "      <script>\n",
              "        const buttonEl =\n",
              "          document.querySelector('#df-8715ba31-c9c2-4618-bfb3-ef61ddb2d757 button.colab-df-convert');\n",
              "        buttonEl.style.display =\n",
              "          google.colab.kernel.accessAllowed ? 'block' : 'none';\n",
              "\n",
              "        async function convertToInteractive(key) {\n",
              "          const element = document.querySelector('#df-8715ba31-c9c2-4618-bfb3-ef61ddb2d757');\n",
              "          const dataTable =\n",
              "            await google.colab.kernel.invokeFunction('convertToInteractive',\n",
              "                                                     [key], {});\n",
              "          if (!dataTable) return;\n",
              "\n",
              "          const docLinkHtml = 'Like what you see? Visit the ' +\n",
              "            '<a target=\"_blank\" href=https://colab.research.google.com/notebooks/data_table.ipynb>data table notebook</a>'\n",
              "            + ' to learn more about interactive tables.';\n",
              "          element.innerHTML = '';\n",
              "          dataTable['output_type'] = 'display_data';\n",
              "          await google.colab.output.renderOutput(dataTable, element);\n",
              "          const docLink = document.createElement('div');\n",
              "          docLink.innerHTML = docLinkHtml;\n",
              "          element.appendChild(docLink);\n",
              "        }\n",
              "      </script>\n",
              "    </div>\n",
              "  </div>\n",
              "  "
            ]
          },
          "metadata": {},
          "execution_count": 34
        }
      ]
    },
    {
      "cell_type": "code",
      "source": [
        "y"
      ],
      "metadata": {
        "colab": {
          "base_uri": "https://localhost:8080/"
        },
        "id": "A1KKNc98VoEV",
        "outputId": "b947ac26-a3b1-46d9-f985-5557218bb509"
      },
      "execution_count": null,
      "outputs": [
        {
          "output_type": "execute_result",
          "data": {
            "text/plain": [
              "0       985\n",
              "1       801\n",
              "2      1349\n",
              "3      1562\n",
              "4      1600\n",
              "       ... \n",
              "726    2114\n",
              "727    3095\n",
              "728    1341\n",
              "729    1796\n",
              "730    2729\n",
              "Name: total_count, Length: 731, dtype: int64"
            ]
          },
          "metadata": {},
          "execution_count": 35
        }
      ]
    },
    {
      "cell_type": "code",
      "source": [
        "X_train.shape"
      ],
      "metadata": {
        "colab": {
          "base_uri": "https://localhost:8080/"
        },
        "id": "s_eqOWogSBx3",
        "outputId": "d5126016-a08f-4aec-8ad9-325cb6584320"
      },
      "execution_count": null,
      "outputs": [
        {
          "output_type": "execute_result",
          "data": {
            "text/plain": [
              "(511, 22)"
            ]
          },
          "metadata": {},
          "execution_count": 36
        }
      ]
    },
    {
      "cell_type": "code",
      "source": [
        "y_train.shape"
      ],
      "metadata": {
        "colab": {
          "base_uri": "https://localhost:8080/"
        },
        "id": "-bmuRmrbSfKX",
        "outputId": "a756861b-2134-4324-a3e8-35ead907aa4d"
      },
      "execution_count": null,
      "outputs": [
        {
          "output_type": "execute_result",
          "data": {
            "text/plain": [
              "(511,)"
            ]
          },
          "metadata": {},
          "execution_count": 37
        }
      ]
    },
    {
      "cell_type": "code",
      "source": [
        "X_test.shape"
      ],
      "metadata": {
        "colab": {
          "base_uri": "https://localhost:8080/"
        },
        "id": "Kmjb2ntISqsp",
        "outputId": "6335f186-4d38-404f-c2eb-ca1fc1805303"
      },
      "execution_count": null,
      "outputs": [
        {
          "output_type": "execute_result",
          "data": {
            "text/plain": [
              "(220, 22)"
            ]
          },
          "metadata": {},
          "execution_count": 38
        }
      ]
    },
    {
      "cell_type": "code",
      "source": [
        "y_test.shape"
      ],
      "metadata": {
        "colab": {
          "base_uri": "https://localhost:8080/"
        },
        "id": "I4tHUVOfS4hP",
        "outputId": "08f17dd6-0f6b-4a88-aefc-9668ff720d3c"
      },
      "execution_count": null,
      "outputs": [
        {
          "output_type": "execute_result",
          "data": {
            "text/plain": [
              "(220,)"
            ]
          },
          "metadata": {},
          "execution_count": 39
        }
      ]
    },
    {
      "cell_type": "code",
      "source": [
        "y_train"
      ],
      "metadata": {
        "colab": {
          "base_uri": "https://localhost:8080/"
        },
        "id": "yZd2n5bhS_VI",
        "outputId": "8731fb38-a56d-40f0-c539-7dba2ddb08d0"
      },
      "execution_count": null,
      "outputs": [
        {
          "output_type": "execute_result",
          "data": {
            "text/plain": [
              "223    4905\n",
              "684    5445\n",
              "685    5698\n",
              "163    5020\n",
              "394    3624\n",
              "       ... \n",
              "71     2417\n",
              "106    3744\n",
              "270    3907\n",
              "435    4911\n",
              "102    2162\n",
              "Name: total_count, Length: 511, dtype: int64"
            ]
          },
          "metadata": {},
          "execution_count": 40
        }
      ]
    },
    {
      "cell_type": "markdown",
      "source": [
        "# **6 . Model Building**"
      ],
      "metadata": {
        "id": "3CyP85cbV3MX"
      }
    },
    {
      "cell_type": "markdown",
      "source": [
        "We will be using the following models in our project:                      \n",
        "Linear Regression                                                           \n",
        "Random Forest Regressor"
      ],
      "metadata": {
        "id": "pOM79X7AV9A8"
      }
    },
    {
      "cell_type": "markdown",
      "source": [
        "# Linear Regression"
      ],
      "metadata": {
        "id": "tDGuqbMoWSC3"
      }
    },
    {
      "cell_type": "code",
      "source": [
        "from sklearn.linear_model import LinearRegression"
      ],
      "metadata": {
        "id": "axZYw2x1TLom"
      },
      "execution_count": null,
      "outputs": []
    },
    {
      "cell_type": "code",
      "source": [
        "linreg = LinearRegression()"
      ],
      "metadata": {
        "id": "-4SGAi0VXL85"
      },
      "execution_count": null,
      "outputs": []
    },
    {
      "cell_type": "code",
      "source": [
        "linreg.fit(X_train,y_train)"
      ],
      "metadata": {
        "colab": {
          "base_uri": "https://localhost:8080/"
        },
        "id": "oT018AI2XR71",
        "outputId": "83379c91-4913-45c9-a689-b188ee9d5fa2"
      },
      "execution_count": null,
      "outputs": [
        {
          "output_type": "execute_result",
          "data": {
            "text/plain": [
              "LinearRegression()"
            ]
          },
          "metadata": {},
          "execution_count": 43
        }
      ]
    },
    {
      "cell_type": "code",
      "source": [
        "pred = linreg.predict(X_test)"
      ],
      "metadata": {
        "id": "zkKa80_1Xa7u"
      },
      "execution_count": null,
      "outputs": []
    },
    {
      "cell_type": "code",
      "source": [
        "lr=linreg.score(X_train,y_train)\n",
        "print('Accuracy of the model :',lr)\n",
        "print('Model coefficients :',linreg.coef_)\n",
        "print('Model intercept value :',linreg.intercept_)"
      ],
      "metadata": {
        "colab": {
          "base_uri": "https://localhost:8080/"
        },
        "id": "IaIJbfljXl3w",
        "outputId": "3516a763-7393-45fc-d77f-eed4bf031c3c"
      },
      "execution_count": null,
      "outputs": [
        {
          "output_type": "stream",
          "name": "stdout",
          "text": [
            "Accuracy of the model : 1.0\n",
            "Model coefficients : [ 1.67244685e-15  2.52686760e-13  2.60845968e-14  5.45894408e-12\n",
            " -8.21124875e-12 -2.37337000e-13 -5.49263483e-13  1.00000000e+00\n",
            "  1.00000000e+00 -1.39212543e-14  1.74167058e-14  2.01986117e-14\n",
            " -2.36974603e-14 -2.82970204e-14  2.82970204e-14  1.44885501e-14\n",
            " -1.44884650e-14  4.83267719e-14  4.20682810e-14 -9.03947107e-14\n",
            "  3.88267760e-13 -3.88274699e-13]\n",
            "Model intercept value : 4.547473508864641e-12\n"
          ]
        }
      ]
    },
    {
      "cell_type": "code",
      "source": [
        "import math\n",
        "#Root mean square error \n",
        "rmse=math.sqrt(metrics.mean_squared_error(y_test,pred))\n",
        "#Mean absolute error\n",
        "mae=metrics.mean_absolute_error(y_test,pred)\n",
        "print('Root mean square error :',rmse)\n",
        "print('Mean absolute error :',mae)"
      ],
      "metadata": {
        "colab": {
          "base_uri": "https://localhost:8080/"
        },
        "id": "UKlVSyp9XqJP",
        "outputId": "4dea3119-6214-413a-c89d-78a20769fe13"
      },
      "execution_count": null,
      "outputs": [
        {
          "output_type": "stream",
          "name": "stdout",
          "text": [
            "Root mean square error : 2.7544247910195063e-12\n",
            "Mean absolute error : 2.3290298982332886e-12\n"
          ]
        }
      ]
    },
    {
      "cell_type": "code",
      "source": [
        "sns.displot(y_test-pred)"
      ],
      "metadata": {
        "colab": {
          "base_uri": "https://localhost:8080/",
          "height": 387
        },
        "id": "zZgCqurpXz1j",
        "outputId": "d766eb89-9790-4291-ccc8-6531657140f0"
      },
      "execution_count": null,
      "outputs": [
        {
          "output_type": "execute_result",
          "data": {
            "text/plain": [
              "<seaborn.axisgrid.FacetGrid at 0x7f2d34114e10>"
            ]
          },
          "metadata": {},
          "execution_count": 54
        },
        {
          "output_type": "display_data",
          "data": {
            "text/plain": [
              "<Figure size 360x360 with 1 Axes>"
            ],
            "image/png": "[encoded data removed]"
          },
          "metadata": {}
        }
      ]
    },
    {
      "cell_type": "markdown",
      "source": [
        ""
      ],
      "metadata": {
        "id": "u4DBJ7hbT72e"
      }
    },
    {
      "cell_type": "markdown",
      "metadata": {
        "id": "584c4c35"
      },
      "source": [
        "## Random Forest Regressor"
      ]
    },
    {
      "cell_type": "code",
      "metadata": {
        "scrolled": true,
        "id": "ee6ce254"
      },
      "source": [
        "from sklearn.ensemble import RandomForestRegressor"
      ],
      "execution_count": null,
      "outputs": []
    },
    {
      "cell_type": "code",
      "metadata": {
        "id": "917af0b2"
      },
      "source": [
        "rf=RandomForestRegressor(n_estimators=200)"
      ],
      "execution_count": null,
      "outputs": []
    },
    {
      "cell_type": "code",
      "metadata": {
        "id": "ea75370e",
        "colab": {
          "base_uri": "https://localhost:8080/"
        },
        "outputId": "872c6325-d1e9-4e20-98fa-6e3b698d9ded"
      },
      "source": [
        "rf.fit(X_train,y_train)"
      ],
      "execution_count": null,
      "outputs": [
        {
          "output_type": "execute_result",
          "data": {
            "text/plain": [
              "RandomForestRegressor(n_estimators=200)"
            ]
          },
          "metadata": {},
          "execution_count": 50
        }
      ]
    },
    {
      "cell_type": "code",
      "metadata": {
        "id": "635257a6",
        "colab": {
          "base_uri": "https://localhost:8080/"
        },
        "outputId": "46478ec0-ea3d-41d4-9dbf-eb7f4992457a"
      },
      "source": [
        "rf_score =rf.score(X_train,y_train)\n",
        "print('Accuracy of the model :',rf_score)"
      ],
      "execution_count": null,
      "outputs": [
        {
          "output_type": "stream",
          "name": "stdout",
          "text": [
            "Accuracy of the model : 0.9992877586732264\n"
          ]
        }
      ]
    },
    {
      "cell_type": "code",
      "metadata": {
        "id": "b931e057"
      },
      "source": [
        "rf_pred=rf.predict(X_test)"
      ],
      "execution_count": null,
      "outputs": []
    },
    {
      "cell_type": "code",
      "metadata": {
        "id": "bca300cb",
        "colab": {
          "base_uri": "https://localhost:8080/"
        },
        "outputId": "c58c6f0a-ef1e-4319-caa5-919ab5674db0"
      },
      "source": [
        "#Root mean square error\n",
        "rmse = math.sqrt(metrics.mean_squared_error(y_test,rf_pred))\n",
        "print('Root mean square error :',rmse)\n",
        "#Mean absolute error\n",
        "mae=metrics.mean_absolute_error(y_test,rf_pred)\n",
        "print('Mean absolute error :',mae)"
      ],
      "execution_count": null,
      "outputs": [
        {
          "output_type": "stream",
          "name": "stdout",
          "text": [
            "Root mean square error : 102.73448483281373\n",
            "Mean absolute error : 66.93313636363636\n"
          ]
        }
      ]
    },
    {
      "cell_type": "code",
      "source": [
        "sns.displot(y_test-rf_pred)"
      ],
      "metadata": {
        "id": "WBKxesUUX3qA",
        "colab": {
          "base_uri": "https://localhost:8080/",
          "height": 387
        },
        "outputId": "7e5ee594-b72b-4418-8f0e-ed5b80f1911f"
      },
      "execution_count": null,
      "outputs": [
        {
          "output_type": "execute_result",
          "data": {
            "text/plain": [
              "<seaborn.axisgrid.FacetGrid at 0x7f2d3bd84090>"
            ]
          },
          "metadata": {},
          "execution_count": 57
        },
        {
          "output_type": "display_data",
          "data": {
            "text/plain": [
              "<Figure size 360x360 with 1 Axes>"
            ],
            "image/png": "[encoded data removed]"
          },
          "metadata": {}
        }
      ]
    },
    {
      "cell_type": "markdown",
      "source": [
        "![image.png](data:image/png;base64,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)"
      ],
      "metadata": {
        "id": "JWlHOrIgYTYB"
      }
    },
    {
      "cell_type": "markdown",
      "source": [
        "H2O is a fully open-source, distributed in-memory machine learning platform with linear scalability. H2O supports the most widely used statistical & machine learning algorithms, including gradient boosted machines, generalized linear models, deep learning, and many more."
      ],
      "metadata": {
        "id": "6jeKKARnYuOa"
      }
    },
    {
      "cell_type": "code",
      "source": [
        "!pip install requests\n",
        "!pip install tabulate\n",
        "!pip install \"colorama>=0.3.8\"\n",
        "!pip install future"
      ],
      "metadata": {
        "colab": {
          "base_uri": "https://localhost:8080/"
        },
        "id": "Ye6LQ5TxWEO8",
        "outputId": "5644eebe-c8b1-46ad-b2be-d25e20fc9863"
      },
      "execution_count": null,
      "outputs": [
        {
          "output_type": "stream",
          "name": "stdout",
          "text": [
            "Requirement already satisfied: requests in /usr/local/lib/python3.7/dist-packages (2.23.0)\n",
            "Requirement already satisfied: certifi>=2017.4.17 in /usr/local/lib/python3.7/dist-packages (from requests) (2021.10.8)\n",
            "Requirement already satisfied: urllib3!=1.25.0,!=1.25.1,<1.26,>=1.21.1 in /usr/local/lib/python3.7/dist-packages (from requests) (1.24.3)\n",
            "Requirement already satisfied: idna<3,>=2.5 in /usr/local/lib/python3.7/dist-packages (from requests) (2.10)\n",
            "Requirement already satisfied: chardet<4,>=3.0.2 in /usr/local/lib/python3.7/dist-packages (from requests) (3.0.4)\n",
            "Requirement already satisfied: tabulate in /usr/local/lib/python3.7/dist-packages (0.8.9)\n",
            "Collecting colorama>=0.3.8\n",
            "  Downloading colorama-0.4.4-py2.py3-none-any.whl (16 kB)\n",
            "Installing collected packages: colorama\n",
            "Successfully installed colorama-0.4.4\n",
            "Requirement already satisfied: future in /usr/local/lib/python3.7/dist-packages (0.16.0)\n"
          ]
        }
      ]
    },
    {
      "cell_type": "code",
      "source": [
        "!pip install h2o"
      ],
      "metadata": {
        "colab": {
          "base_uri": "https://localhost:8080/"
        },
        "id": "MHdFYqgbY--Q",
        "outputId": "685f05ae-724c-4964-86b5-f0ee9fb931fb"
      },
      "execution_count": null,
      "outputs": [
        {
          "output_type": "stream",
          "name": "stdout",
          "text": [
            "Collecting h2o\n",
            "  Downloading h2o-3.36.0.3.tar.gz (176.2 MB)\n",
            "\u001b[K     |████████████████████████████████| 176.2 MB 81 kB/s \n",
            "\u001b[?25hRequirement already satisfied: requests in /usr/local/lib/python3.7/dist-packages (from h2o) (2.23.0)\n",
            "Requirement already satisfied: tabulate in /usr/local/lib/python3.7/dist-packages (from h2o) (0.8.9)\n",
            "Requirement already satisfied: future in /usr/local/lib/python3.7/dist-packages (from h2o) (0.16.0)\n",
            "Requirement already satisfied: idna<3,>=2.5 in /usr/local/lib/python3.7/dist-packages (from requests->h2o) (2.10)\n",
            "Requirement already satisfied: chardet<4,>=3.0.2 in /usr/local/lib/python3.7/dist-packages (from requests->h2o) (3.0.4)\n",
            "Requirement already satisfied: urllib3!=1.25.0,!=1.25.1,<1.26,>=1.21.1 in /usr/local/lib/python3.7/dist-packages (from requests->h2o) (1.24.3)\n",
            "Requirement already satisfied: certifi>=2017.4.17 in /usr/local/lib/python3.7/dist-packages (from requests->h2o) (2021.10.8)\n",
            "Building wheels for collected packages: h2o\n",
            "  Building wheel for h2o (setup.py) ... \u001b[?25l\u001b[?25hdone\n",
            "  Created wheel for h2o: filename=h2o-3.36.0.3-py2.py3-none-any.whl size=176244303 sha256=9188b003ecbd91d19031668063ef40b5b4cfab015a389c7763b3da31868eb8f2\n",
            "  Stored in directory: /root/.cache/pip/wheels/b5/71/a5/02087a05e5644158183e1c58eeae3f9356a4d1e80659fb2dfb\n",
            "Successfully built h2o\n",
            "Installing collected packages: h2o\n",
            "Successfully installed h2o-3.36.0.3\n"
          ]
        }
      ]
    },
    {
      "cell_type": "markdown",
      "source": [
        ""
      ],
      "metadata": {
        "id": "pZZmyOo1Zjte"
      }
    },
    {
      "cell_type": "markdown",
      "metadata": {
        "id": "00d9cab4"
      },
      "source": [
        "## Importing the H2O Python module and H2OAutoML class"
      ]
    },
    {
      "cell_type": "code",
      "metadata": {
        "id": "0d3070c9",
        "colab": {
          "base_uri": "https://localhost:8080/",
          "height": 515
        },
        "outputId": "d4fe7d1b-a899-4f5a-ab08-cae0a2cfeb6c"
      },
      "source": [
        "import h2o\n",
        "from h2o.automl import H2OAutoML\n",
        "h2o.init(max_mem_size='16G')  ##  the h2o.init() makes sure that no prior instance of H2O is running."
      ],
      "execution_count": null,
      "outputs": [
        {
          "output_type": "stream",
          "name": "stdout",
          "text": [
            "Checking whether there is an H2O instance running at http://localhost:54321 ..... not found.\n",
            "Attempting to start a local H2O server...\n",
            "  Java Version: openjdk version \"11.0.14\" 2022-01-18; OpenJDK Runtime Environment (build 11.0.14+9-Ubuntu-0ubuntu2.18.04); OpenJDK 64-Bit Server VM (build 11.0.14+9-Ubuntu-0ubuntu2.18.04, mixed mode, sharing)\n",
            "  Starting server from /usr/local/lib/python3.7/dist-packages/h2o/backend/bin/h2o.jar\n",
            "  Ice root: /tmp/tmpuy5drx2s\n",
            "  JVM stdout: /tmp/tmpuy5drx2s/h2o_unknownUser_started_from_python.out\n",
            "  JVM stderr: /tmp/tmpuy5drx2s/h2o_unknownUser_started_from_python.err\n",
            "  Server is running at http://127.0.0.1:54321\n",
            "Connecting to H2O server at http://127.0.0.1:54321 ... successful.\n"
          ]
        },
        {
          "output_type": "display_data",
          "data": {
            "text/plain": [
              "--------------------------  ----------------------------------\n",
              "H2O_cluster_uptime:         03 secs\n",
              "H2O_cluster_timezone:       Etc/UTC\n",
              "H2O_data_parsing_timezone:  UTC\n",
              "H2O_cluster_version:        3.36.0.3\n",
              "H2O_cluster_version_age:    26 days\n",
              "H2O_cluster_name:           H2O_from_python_unknownUser_pbgge7\n",
              "H2O_cluster_total_nodes:    1\n",
              "H2O_cluster_free_memory:    16 Gb\n",
              "H2O_cluster_total_cores:    2\n",
              "H2O_cluster_allowed_cores:  2\n",
              "H2O_cluster_status:         locked, healthy\n",
              "H2O_connection_url:         http://127.0.0.1:54321\n",
              "H2O_connection_proxy:       {\"http\": null, \"https\": null}\n",
              "H2O_internal_security:      False\n",
              "Python_version:             3.7.12 final\n",
              "--------------------------  ----------------------------------"
            ],
            "text/html": [
              "<div style=\"overflow:auto\"><table style=\"width:50%\"><tr><td>H2O_cluster_uptime:</td>\n",
              "<td>03 secs</td></tr>\n",
              "<tr><td>H2O_cluster_timezone:</td>\n",
              "<td>Etc/UTC</td></tr>\n",
              "<tr><td>H2O_data_parsing_timezone:</td>\n",
              "<td>UTC</td></tr>\n",
              "<tr><td>H2O_cluster_version:</td>\n",
              "<td>3.36.0.3</td></tr>\n",
              "<tr><td>H2O_cluster_version_age:</td>\n",
              "<td>26 days </td></tr>\n",
              "<tr><td>H2O_cluster_name:</td>\n",
              "<td>H2O_from_python_unknownUser_pbgge7</td></tr>\n",
              "<tr><td>H2O_cluster_total_nodes:</td>\n",
              "<td>1</td></tr>\n",
              "<tr><td>H2O_cluster_free_memory:</td>\n",
              "<td>16 Gb</td></tr>\n",
              "<tr><td>H2O_cluster_total_cores:</td>\n",
              "<td>2</td></tr>\n",
              "<tr><td>H2O_cluster_allowed_cores:</td>\n",
              "<td>2</td></tr>\n",
              "<tr><td>H2O_cluster_status:</td>\n",
              "<td>locked, healthy</td></tr>\n",
              "<tr><td>H2O_connection_url:</td>\n",
              "<td>http://127.0.0.1:54321</td></tr>\n",
              "<tr><td>H2O_connection_proxy:</td>\n",
              "<td>{\"http\": null, \"https\": null}</td></tr>\n",
              "<tr><td>H2O_internal_security:</td>\n",
              "<td>False</td></tr>\n",
              "<tr><td>Python_version:</td>\n",
              "<td>3.7.12 final</td></tr></table></div>"
            ]
          },
          "metadata": {}
        }
      ]
    },
    {
      "cell_type": "markdown",
      "metadata": {
        "id": "fd698bd9"
      },
      "source": [
        "### Loading the data"
      ]
    },
    {
      "cell_type": "code",
      "metadata": {
        "id": "495e6fb2",
        "colab": {
          "base_uri": "https://localhost:8080/"
        },
        "outputId": "5c27a805-c668-4851-c1d2-8c2ef362a4ac"
      },
      "source": [
        "df = h2o.import_file(\"/content/drive/MyDrive/Source files/Bike Rental Predictions/Project Code and Files/day.csv\")"
      ],
      "execution_count": null,
      "outputs": [
        {
          "output_type": "stream",
          "name": "stdout",
          "text": [
            "Parse progress: |████████████████████████████████████████████████████████████████| (done) 100%\n"
          ]
        }
      ]
    },
    {
      "cell_type": "code",
      "metadata": {
        "id": "9bf3e0b5",
        "colab": {
          "base_uri": "https://localhost:8080/",
          "height": 254
        },
        "outputId": "d51effa8-9fea-49b8-b32d-2e8418b37ce2"
      },
      "source": [
        "df.head()"
      ],
      "execution_count": null,
      "outputs": [
        {
          "output_type": "display_data",
          "data": {
            "text/html": [
              "<table>\n",
              "<thead>\n",
              "<tr><th style=\"text-align: right;\">  instant</th><th>dteday             </th><th style=\"text-align: right;\">  season</th><th style=\"text-align: right;\">  yr</th><th style=\"text-align: right;\">  mnth</th><th style=\"text-align: right;\">  holiday</th><th style=\"text-align: right;\">  weekday</th><th style=\"text-align: right;\">  workingday</th><th style=\"text-align: right;\">  weathersit</th><th style=\"text-align: right;\">    temp</th><th style=\"text-align: right;\">   atemp</th><th style=\"text-align: right;\">     hum</th><th style=\"text-align: right;\">  windspeed</th><th style=\"text-align: right;\">  casual</th><th style=\"text-align: right;\">  registered</th><th style=\"text-align: right;\">  cnt</th></tr>\n",
              "</thead>\n",
              "<tbody>\n",
              "<tr><td style=\"text-align: right;\">        1</td><td>2011-01-01 00:00:00</td><td style=\"text-align: right;\">       1</td><td style=\"text-align: right;\">   0</td><td style=\"text-align: right;\">     1</td><td style=\"text-align: right;\">        0</td><td style=\"text-align: right;\">        6</td><td style=\"text-align: right;\">           0</td><td style=\"text-align: right;\">           2</td><td style=\"text-align: right;\">0.344167</td><td style=\"text-align: right;\">0.363625</td><td style=\"text-align: right;\">0.805833</td><td style=\"text-align: right;\">  0.160446 </td><td style=\"text-align: right;\">     331</td><td style=\"text-align: right;\">         654</td><td style=\"text-align: right;\">  985</td></tr>\n",
              "<tr><td style=\"text-align: right;\">        2</td><td>2011-01-02 00:00:00</td><td style=\"text-align: right;\">       1</td><td style=\"text-align: right;\">   0</td><td style=\"text-align: right;\">     1</td><td style=\"text-align: right;\">        0</td><td style=\"text-align: right;\">        0</td><td style=\"text-align: right;\">           0</td><td style=\"text-align: right;\">           2</td><td style=\"text-align: right;\">0.363478</td><td style=\"text-align: right;\">0.353739</td><td style=\"text-align: right;\">0.696087</td><td style=\"text-align: right;\">  0.248539 </td><td style=\"text-align: right;\">     131</td><td style=\"text-align: right;\">         670</td><td style=\"text-align: right;\">  801</td></tr>\n",
              "<tr><td style=\"text-align: right;\">        3</td><td>2011-01-03 00:00:00</td><td style=\"text-align: right;\">       1</td><td style=\"text-align: right;\">   0</td><td style=\"text-align: right;\">     1</td><td style=\"text-align: right;\">        0</td><td style=\"text-align: right;\">        1</td><td style=\"text-align: right;\">           1</td><td style=\"text-align: right;\">           1</td><td style=\"text-align: right;\">0.196364</td><td style=\"text-align: right;\">0.189405</td><td style=\"text-align: right;\">0.437273</td><td style=\"text-align: right;\">  0.248309 </td><td style=\"text-align: right;\">     120</td><td style=\"text-align: right;\">        1229</td><td style=\"text-align: right;\"> 1349</td></tr>\n",
              "<tr><td style=\"text-align: right;\">        4</td><td>2011-01-04 00:00:00</td><td style=\"text-align: right;\">       1</td><td style=\"text-align: right;\">   0</td><td style=\"text-align: right;\">     1</td><td style=\"text-align: right;\">        0</td><td style=\"text-align: right;\">        2</td><td style=\"text-align: right;\">           1</td><td style=\"text-align: right;\">           1</td><td style=\"text-align: right;\">0.2     </td><td style=\"text-align: right;\">0.212122</td><td style=\"text-align: right;\">0.590435</td><td style=\"text-align: right;\">  0.160296 </td><td style=\"text-align: right;\">     108</td><td style=\"text-align: right;\">        1454</td><td style=\"text-align: right;\"> 1562</td></tr>\n",
              "<tr><td style=\"text-align: right;\">        5</td><td>2011-01-05 00:00:00</td><td style=\"text-align: right;\">       1</td><td style=\"text-align: right;\">   0</td><td style=\"text-align: right;\">     1</td><td style=\"text-align: right;\">        0</td><td style=\"text-align: right;\">        3</td><td style=\"text-align: right;\">           1</td><td style=\"text-align: right;\">           1</td><td style=\"text-align: right;\">0.226957</td><td style=\"text-align: right;\">0.22927 </td><td style=\"text-align: right;\">0.436957</td><td style=\"text-align: right;\">  0.1869   </td><td style=\"text-align: right;\">      82</td><td style=\"text-align: right;\">        1518</td><td style=\"text-align: right;\"> 1600</td></tr>\n",
              "<tr><td style=\"text-align: right;\">        6</td><td>2011-01-06 00:00:00</td><td style=\"text-align: right;\">       1</td><td style=\"text-align: right;\">   0</td><td style=\"text-align: right;\">     1</td><td style=\"text-align: right;\">        0</td><td style=\"text-align: right;\">        4</td><td style=\"text-align: right;\">           1</td><td style=\"text-align: right;\">           1</td><td style=\"text-align: right;\">0.204348</td><td style=\"text-align: right;\">0.233209</td><td style=\"text-align: right;\">0.518261</td><td style=\"text-align: right;\">  0.0895652</td><td style=\"text-align: right;\">      88</td><td style=\"text-align: right;\">        1518</td><td style=\"text-align: right;\"> 1606</td></tr>\n",
              "<tr><td style=\"text-align: right;\">        7</td><td>2011-01-07 00:00:00</td><td style=\"text-align: right;\">       1</td><td style=\"text-align: right;\">   0</td><td style=\"text-align: right;\">     1</td><td style=\"text-align: right;\">        0</td><td style=\"text-align: right;\">        5</td><td style=\"text-align: right;\">           1</td><td style=\"text-align: right;\">           2</td><td style=\"text-align: right;\">0.196522</td><td style=\"text-align: right;\">0.208839</td><td style=\"text-align: right;\">0.498696</td><td style=\"text-align: right;\">  0.168726 </td><td style=\"text-align: right;\">     148</td><td style=\"text-align: right;\">        1362</td><td style=\"text-align: right;\"> 1510</td></tr>\n",
              "<tr><td style=\"text-align: right;\">        8</td><td>2011-01-08 00:00:00</td><td style=\"text-align: right;\">       1</td><td style=\"text-align: right;\">   0</td><td style=\"text-align: right;\">     1</td><td style=\"text-align: right;\">        0</td><td style=\"text-align: right;\">        6</td><td style=\"text-align: right;\">           0</td><td style=\"text-align: right;\">           2</td><td style=\"text-align: right;\">0.165   </td><td style=\"text-align: right;\">0.162254</td><td style=\"text-align: right;\">0.535833</td><td style=\"text-align: right;\">  0.266804 </td><td style=\"text-align: right;\">      68</td><td style=\"text-align: right;\">         891</td><td style=\"text-align: right;\">  959</td></tr>\n",
              "<tr><td style=\"text-align: right;\">        9</td><td>2011-01-09 00:00:00</td><td style=\"text-align: right;\">       1</td><td style=\"text-align: right;\">   0</td><td style=\"text-align: right;\">     1</td><td style=\"text-align: right;\">        0</td><td style=\"text-align: right;\">        0</td><td style=\"text-align: right;\">           0</td><td style=\"text-align: right;\">           1</td><td style=\"text-align: right;\">0.138333</td><td style=\"text-align: right;\">0.116175</td><td style=\"text-align: right;\">0.434167</td><td style=\"text-align: right;\">  0.36195  </td><td style=\"text-align: right;\">      54</td><td style=\"text-align: right;\">         768</td><td style=\"text-align: right;\">  822</td></tr>\n",
              "<tr><td style=\"text-align: right;\">       10</td><td>2011-01-10 00:00:00</td><td style=\"text-align: right;\">       1</td><td style=\"text-align: right;\">   0</td><td style=\"text-align: right;\">     1</td><td style=\"text-align: right;\">        0</td><td style=\"text-align: right;\">        1</td><td style=\"text-align: right;\">           1</td><td style=\"text-align: right;\">           1</td><td style=\"text-align: right;\">0.150833</td><td style=\"text-align: right;\">0.150888</td><td style=\"text-align: right;\">0.482917</td><td style=\"text-align: right;\">  0.223267 </td><td style=\"text-align: right;\">      41</td><td style=\"text-align: right;\">        1280</td><td style=\"text-align: right;\"> 1321</td></tr>\n",
              "</tbody>\n",
              "</table>"
            ]
          },
          "metadata": {}
        },
        {
          "output_type": "execute_result",
          "data": {
            "text/plain": [
              ""
            ]
          },
          "metadata": {},
          "execution_count": 63
        }
      ]
    },
    {
      "cell_type": "markdown",
      "source": [
        ""
      ],
      "metadata": {
        "id": "onaWQU_3aTy0"
      }
    },
    {
      "cell_type": "markdown",
      "metadata": {
        "id": "jBOr81Xywxt9"
      },
      "source": [
        "## H2O auto ml can do all the data preprocessing techniques"
      ]
    },
    {
      "cell_type": "code",
      "source": [
        "df_train,df_test= df.split_frame(ratios=[.8])"
      ],
      "metadata": {
        "id": "tLvSRfR_ZIfi"
      },
      "execution_count": null,
      "outputs": []
    },
    {
      "cell_type": "markdown",
      "source": [
        ""
      ],
      "metadata": {
        "id": "1CeJU_FRaeMM"
      }
    },
    {
      "cell_type": "markdown",
      "metadata": {
        "id": "dl4X6qkbxQJy"
      },
      "source": [
        "### Splitting the data"
      ]
    },
    {
      "cell_type": "code",
      "metadata": {
        "id": "mHrTpf8YxNbs",
        "colab": {
          "base_uri": "https://localhost:8080/",
          "height": 254
        },
        "outputId": "2c918e5a-9201-4e0d-8c23-154591650a4a"
      },
      "source": [
        "df_train"
      ],
      "execution_count": null,
      "outputs": [
        {
          "output_type": "display_data",
          "data": {
            "text/html": [
              "<table>\n",
              "<thead>\n",
              "<tr><th style=\"text-align: right;\">  instant</th><th>dteday             </th><th style=\"text-align: right;\">  season</th><th style=\"text-align: right;\">  yr</th><th style=\"text-align: right;\">  mnth</th><th style=\"text-align: right;\">  holiday</th><th style=\"text-align: right;\">  weekday</th><th style=\"text-align: right;\">  workingday</th><th style=\"text-align: right;\">  weathersit</th><th style=\"text-align: right;\">    temp</th><th style=\"text-align: right;\">   atemp</th><th style=\"text-align: right;\">     hum</th><th style=\"text-align: right;\">  windspeed</th><th style=\"text-align: right;\">  casual</th><th style=\"text-align: right;\">  registered</th><th style=\"text-align: right;\">  cnt</th></tr>\n",
              "</thead>\n",
              "<tbody>\n",
              "<tr><td style=\"text-align: right;\">        2</td><td>2011-01-02 00:00:00</td><td style=\"text-align: right;\">       1</td><td style=\"text-align: right;\">   0</td><td style=\"text-align: right;\">     1</td><td style=\"text-align: right;\">        0</td><td style=\"text-align: right;\">        0</td><td style=\"text-align: right;\">           0</td><td style=\"text-align: right;\">           2</td><td style=\"text-align: right;\">0.363478</td><td style=\"text-align: right;\">0.353739</td><td style=\"text-align: right;\">0.696087</td><td style=\"text-align: right;\">   0.248539</td><td style=\"text-align: right;\">     131</td><td style=\"text-align: right;\">         670</td><td style=\"text-align: right;\">  801</td></tr>\n",
              "<tr><td style=\"text-align: right;\">        4</td><td>2011-01-04 00:00:00</td><td style=\"text-align: right;\">       1</td><td style=\"text-align: right;\">   0</td><td style=\"text-align: right;\">     1</td><td style=\"text-align: right;\">        0</td><td style=\"text-align: right;\">        2</td><td style=\"text-align: right;\">           1</td><td style=\"text-align: right;\">           1</td><td style=\"text-align: right;\">0.2     </td><td style=\"text-align: right;\">0.212122</td><td style=\"text-align: right;\">0.590435</td><td style=\"text-align: right;\">   0.160296</td><td style=\"text-align: right;\">     108</td><td style=\"text-align: right;\">        1454</td><td style=\"text-align: right;\"> 1562</td></tr>\n",
              "<tr><td style=\"text-align: right;\">        5</td><td>2011-01-05 00:00:00</td><td style=\"text-align: right;\">       1</td><td style=\"text-align: right;\">   0</td><td style=\"text-align: right;\">     1</td><td style=\"text-align: right;\">        0</td><td style=\"text-align: right;\">        3</td><td style=\"text-align: right;\">           1</td><td style=\"text-align: right;\">           1</td><td style=\"text-align: right;\">0.226957</td><td style=\"text-align: right;\">0.22927 </td><td style=\"text-align: right;\">0.436957</td><td style=\"text-align: right;\">   0.1869  </td><td style=\"text-align: right;\">      82</td><td style=\"text-align: right;\">        1518</td><td style=\"text-align: right;\"> 1600</td></tr>\n",
              "<tr><td style=\"text-align: right;\">        7</td><td>2011-01-07 00:00:00</td><td style=\"text-align: right;\">       1</td><td style=\"text-align: right;\">   0</td><td style=\"text-align: right;\">     1</td><td style=\"text-align: right;\">        0</td><td style=\"text-align: right;\">        5</td><td style=\"text-align: right;\">           1</td><td style=\"text-align: right;\">           2</td><td style=\"text-align: right;\">0.196522</td><td style=\"text-align: right;\">0.208839</td><td style=\"text-align: right;\">0.498696</td><td style=\"text-align: right;\">   0.168726</td><td style=\"text-align: right;\">     148</td><td style=\"text-align: right;\">        1362</td><td style=\"text-align: right;\"> 1510</td></tr>\n",
              "<tr><td style=\"text-align: right;\">        9</td><td>2011-01-09 00:00:00</td><td style=\"text-align: right;\">       1</td><td style=\"text-align: right;\">   0</td><td style=\"text-align: right;\">     1</td><td style=\"text-align: right;\">        0</td><td style=\"text-align: right;\">        0</td><td style=\"text-align: right;\">           0</td><td style=\"text-align: right;\">           1</td><td style=\"text-align: right;\">0.138333</td><td style=\"text-align: right;\">0.116175</td><td style=\"text-align: right;\">0.434167</td><td style=\"text-align: right;\">   0.36195 </td><td style=\"text-align: right;\">      54</td><td style=\"text-align: right;\">         768</td><td style=\"text-align: right;\">  822</td></tr>\n",
              "<tr><td style=\"text-align: right;\">       10</td><td>2011-01-10 00:00:00</td><td style=\"text-align: right;\">       1</td><td style=\"text-align: right;\">   0</td><td style=\"text-align: right;\">     1</td><td style=\"text-align: right;\">        0</td><td style=\"text-align: right;\">        1</td><td style=\"text-align: right;\">           1</td><td style=\"text-align: right;\">           1</td><td style=\"text-align: right;\">0.150833</td><td style=\"text-align: right;\">0.150888</td><td style=\"text-align: right;\">0.482917</td><td style=\"text-align: right;\">   0.223267</td><td style=\"text-align: right;\">      41</td><td style=\"text-align: right;\">        1280</td><td style=\"text-align: right;\"> 1321</td></tr>\n",
              "<tr><td style=\"text-align: right;\">       11</td><td>2011-01-11 00:00:00</td><td style=\"text-align: right;\">       1</td><td style=\"text-align: right;\">   0</td><td style=\"text-align: right;\">     1</td><td style=\"text-align: right;\">        0</td><td style=\"text-align: right;\">        2</td><td style=\"text-align: right;\">           1</td><td style=\"text-align: right;\">           2</td><td style=\"text-align: right;\">0.169091</td><td style=\"text-align: right;\">0.191464</td><td style=\"text-align: right;\">0.686364</td><td style=\"text-align: right;\">   0.122132</td><td style=\"text-align: right;\">      43</td><td style=\"text-align: right;\">        1220</td><td style=\"text-align: right;\"> 1263</td></tr>\n",
              "<tr><td style=\"text-align: right;\">       12</td><td>2011-01-12 00:00:00</td><td style=\"text-align: right;\">       1</td><td style=\"text-align: right;\">   0</td><td style=\"text-align: right;\">     1</td><td style=\"text-align: right;\">        0</td><td style=\"text-align: right;\">        3</td><td style=\"text-align: right;\">           1</td><td style=\"text-align: right;\">           1</td><td style=\"text-align: right;\">0.172727</td><td style=\"text-align: right;\">0.160473</td><td style=\"text-align: right;\">0.599545</td><td style=\"text-align: right;\">   0.304627</td><td style=\"text-align: right;\">      25</td><td style=\"text-align: right;\">        1137</td><td style=\"text-align: right;\"> 1162</td></tr>\n",
              "<tr><td style=\"text-align: right;\">       13</td><td>2011-01-13 00:00:00</td><td style=\"text-align: right;\">       1</td><td style=\"text-align: right;\">   0</td><td style=\"text-align: right;\">     1</td><td style=\"text-align: right;\">        0</td><td style=\"text-align: right;\">        4</td><td style=\"text-align: right;\">           1</td><td style=\"text-align: right;\">           1</td><td style=\"text-align: right;\">0.165   </td><td style=\"text-align: right;\">0.150883</td><td style=\"text-align: right;\">0.470417</td><td style=\"text-align: right;\">   0.301   </td><td style=\"text-align: right;\">      38</td><td style=\"text-align: right;\">        1368</td><td style=\"text-align: right;\"> 1406</td></tr>\n",
              "<tr><td style=\"text-align: right;\">       16</td><td>2011-01-16 00:00:00</td><td style=\"text-align: right;\">       1</td><td style=\"text-align: right;\">   0</td><td style=\"text-align: right;\">     1</td><td style=\"text-align: right;\">        0</td><td style=\"text-align: right;\">        0</td><td style=\"text-align: right;\">           0</td><td style=\"text-align: right;\">           1</td><td style=\"text-align: right;\">0.231667</td><td style=\"text-align: right;\">0.234217</td><td style=\"text-align: right;\">0.48375 </td><td style=\"text-align: right;\">   0.188433</td><td style=\"text-align: right;\">     251</td><td style=\"text-align: right;\">         953</td><td style=\"text-align: right;\"> 1204</td></tr>\n",
              "</tbody>\n",
              "</table>"
            ]
          },
          "metadata": {}
        },
        {
          "output_type": "execute_result",
          "data": {
            "text/plain": [
              ""
            ]
          },
          "metadata": {},
          "execution_count": 66
        }
      ]
    },
    {
      "cell_type": "code",
      "metadata": {
        "id": "zMuVn9nvxSfd"
      },
      "source": [
        "y = \"cnt\"  ## dependent variable\n",
        "x = df.columns  ## Independent variable\n",
        "x.remove(y)\n",
        "x.remove('casual')\n",
        "x.remove('registered')"
      ],
      "execution_count": null,
      "outputs": []
    },
    {
      "cell_type": "markdown",
      "source": [
        "Defining the model"
      ],
      "metadata": {
        "id": "7K6RatLpa9MM"
      }
    },
    {
      "cell_type": "code",
      "source": [
        "aml = H2OAutoML(max_runtime_secs=300,max_models = 10, seed = 10, verbosity=\"info\", nfolds=2)"
      ],
      "metadata": {
        "id": "ZDGpmLy_aYsL"
      },
      "execution_count": null,
      "outputs": []
    },
    {
      "cell_type": "markdown",
      "source": [
        "Fitting the model"
      ],
      "metadata": {
        "id": "7WlmeBrPbEsp"
      }
    },
    {
      "cell_type": "code",
      "source": [
        "aml.train(x=x,y=y, training_frame=df_train)"
      ],
      "metadata": {
        "colab": {
          "base_uri": "https://localhost:8080/"
        },
        "id": "quJ3504WbA9Y",
        "outputId": "eb993e75-1e4e-4c0d-b58e-b7b6ff4cbdcf"
      },
      "execution_count": null,
      "outputs": [
        {
          "output_type": "stream",
          "name": "stdout",
          "text": [
            "AutoML progress: |\n",
            "11:46:40.959: Project: AutoML_1_20220315_114640\n",
            "11:46:40.969: Setting stopping tolerance adaptively based on the training frame: 0.04170288281141495\n",
            "11:46:40.969: Build control seed: 10\n",
            "11:46:40.970: training frame: Frame key: AutoML_1_20220315_114640_training_py_3_sid_95d6    cols: 16    rows: 575  chunks: 1    size: 22044  checksum: -29723163976657925\n",
            "11:46:40.970: validation frame: NULL\n",
            "11:46:40.970: leaderboard frame: NULL\n",
            "11:46:40.971: blending frame: NULL\n",
            "11:46:40.971: response column: cnt\n",
            "11:46:40.971: fold column: null\n",
            "11:46:40.971: weights column: null\n",
            "11:46:41.9: Loading execution steps: [{XGBoost : [def_2 (1g, 10w), def_1 (2g, 10w), def_3 (3g, 10w), grid_1 (4g, 90w), lr_search (6g, 30w)]}, {GLM : [def_1 (1g, 10w)]}, {DRF : [def_1 (2g, 10w), XRT (3g, 10w)]}, {GBM : [def_5 (1g, 10w), def_2 (2g, 10w), def_3 (2g, 10w), def_4 (2g, 10w), def_1 (3g, 10w), grid_1 (4g, 60w), lr_annealing (6g, 10w)]}, {DeepLearning : [def_1 (3g, 10w), grid_1 (4g, 30w), grid_2 (5g, 30w), grid_3 (5g, 30w)]}, {completion : [resume_best_grids (10g, 60w)]}, {StackedEnsemble : [best_of_family_1 (1g, 5w), best_of_family_2 (2g, 5w), best_of_family_3 (3g, 5w), best_of_family_4 (4g, 5w), best_of_family_5 (5g, 5w), all_2 (2g, 10w), all_3 (3g, 10w), all_4 (4g, 10w), all_5 (5g, 10w), monotonic (6g, 10w), best_of_family_xgboost (6g, 10w), best_of_family_gbm (6g, 10w), all_xgboost (7g, 10w), all_gbm (7g, 10w), best_of_family_xglm (8g, 10w), all_xglm (8g, 10w), best_of_family (10g, 10w), best_N (10g, 10w)]}]\n",
            "11:46:41.87: AutoML job created: 2022.03.15 11:46:40.888\n",
            "11:46:41.89: AutoML build started: 2022.03.15 11:46:41.88\n",
            "11:46:41.109: AutoML: starting XGBoost_1_AutoML_1_20220315_114640 model training\n",
            "\n",
            "█\n",
            "11:46:44.184: New leader: XGBoost_1_AutoML_1_20220315_114640, mean_residual_deviance: 486382.1373965823\n",
            "11:46:44.189: AutoML: starting GLM_1_AutoML_1_20220315_114640 model training\n",
            "\n",
            "\n",
            "11:46:45.205: AutoML: starting GBM_1_AutoML_1_20220315_114640 model training\n",
            "\n",
            "██\n",
            "11:46:48.233: AutoML: starting StackedEnsemble_BestOfFamily_1_AutoML_1_20220315_114640 model training\n",
            "11:46:49.239: New leader: StackedEnsemble_BestOfFamily_1_AutoML_1_20220315_114640, mean_residual_deviance: 482680.03427589615\n",
            "11:46:49.239: AutoML: starting XGBoost_2_AutoML_1_20220315_114640 model training\n",
            "\n",
            "█\n",
            "11:46:50.244: New leader: XGBoost_2_AutoML_1_20220315_114640, mean_residual_deviance: 443269.85865215893\n",
            "11:46:50.246: AutoML: starting DRF_1_AutoML_1_20220315_114640 model training\n",
            "\n",
            "█\n",
            "11:46:52.251: AutoML: starting GBM_2_AutoML_1_20220315_114640 model training\n",
            "11:46:53.257: New leader: GBM_2_AutoML_1_20220315_114640, mean_residual_deviance: 423484.55951396516\n",
            "11:46:53.257: AutoML: starting GBM_3_AutoML_1_20220315_114640 model training\n",
            "\n",
            "█\n",
            "11:46:55.264: New leader: GBM_3_AutoML_1_20220315_114640, mean_residual_deviance: 421172.3679069547\n",
            "11:46:55.264: AutoML: starting GBM_4_AutoML_1_20220315_114640 model training\n",
            "\n",
            "█\n",
            "11:46:56.277: AutoML: starting StackedEnsemble_BestOfFamily_2_AutoML_1_20220315_114640 model training\n",
            "\n",
            "█\n",
            "11:46:57.283: New leader: StackedEnsemble_BestOfFamily_2_AutoML_1_20220315_114640, mean_residual_deviance: 397894.44493628544\n",
            "11:46:57.287: AutoML: starting StackedEnsemble_AllModels_1_AutoML_1_20220315_114640 model training\n",
            "11:46:58.291: AutoML: starting XGBoost_3_AutoML_1_20220315_114640 model training\n",
            "\n",
            "█\n",
            "11:46:59.298: AutoML: starting XRT_1_AutoML_1_20220315_114640 model training\n",
            "\n",
            "██\n",
            "11:47:02.323: AutoML: starting StackedEnsemble_BestOfFamily_3_AutoML_1_20220315_114640 model training\n",
            "\n",
            "██\n",
            "11:47:03.350: AutoML: starting StackedEnsemble_AllModels_2_AutoML_1_20220315_114640 model training\n",
            "11:47:04.387: No base models, due to timeouts or the exclude_algos option. Skipping StackedEnsemble 'monotonic'.\n",
            "11:47:04.391: AutoML: starting StackedEnsemble_BestOfFamily_4_AutoML_1_20220315_114640 model training\n",
            "\n",
            "██\n",
            "11:47:06.416: AutoML: starting StackedEnsemble_BestOfFamily_5_AutoML_1_20220315_114640 model training\n",
            "11:47:07.428: AutoML: starting StackedEnsemble_AllModels_3_AutoML_1_20220315_114640 model training\n",
            "\n",
            "█\n",
            "11:47:09.437: AutoML: starting StackedEnsemble_AllModels_4_AutoML_1_20220315_114640 model training\n",
            "\n",
            "██\n",
            "11:47:11.443: AutoML: starting StackedEnsemble_BestOfFamily_6_AutoML_1_20220315_114640 model training\n",
            "11:47:12.453: New leader: StackedEnsemble_BestOfFamily_6_AutoML_1_20220315_114640, mean_residual_deviance: 396565.9124902638\n",
            "11:47:12.455: AutoML: starting StackedEnsemble_AllModels_5_AutoML_1_20220315_114640 model training\n",
            "\n",
            "█████████████████████████████████████████████| (done) 100%\n",
            "\n",
            "11:47:13.479: Actual modeling steps: [{XGBoost : [def_2 (1g, 10w)]}, {GLM : [def_1 (1g, 10w)]}, {GBM : [def_5 (1g, 10w)]}, {StackedEnsemble : [best_of_family_1 (1g, 5w)]}, {XGBoost : [def_1 (2g, 10w)]}, {DRF : [def_1 (2g, 10w)]}, {GBM : [def_2 (2g, 10w), def_3 (2g, 10w), def_4 (2g, 10w)]}, {StackedEnsemble : [best_of_family_2 (2g, 5w), all_2 (2g, 10w)]}, {XGBoost : [def_3 (3g, 10w)]}, {DRF : [XRT (3g, 10w)]}, {StackedEnsemble : [best_of_family_3 (3g, 5w), all_3 (3g, 10w), best_of_family_xgboost (6g, 10w), best_of_family_gbm (6g, 10w), all_xgboost (7g, 10w), all_gbm (7g, 10w), best_of_family_xglm (8g, 10w), all_xglm (8g, 10w)]}]\n",
            "11:47:13.480: AutoML build stopped: 2022.03.15 11:47:13.479\n",
            "11:47:13.480: AutoML build done: built 10 models\n",
            "11:47:13.480: AutoML duration: 32.391 sec\n",
            "\n",
            "Model Details\n",
            "=============\n",
            "H2OStackedEnsembleEstimator :  Stacked Ensemble\n",
            "Model Key:  StackedEnsemble_BestOfFamily_6_AutoML_1_20220315_114640\n",
            "\n",
            "No model summary for this model\n",
            "\n",
            "ModelMetricsRegressionGLM: stackedensemble\n",
            "** Reported on train data. **\n",
            "\n",
            "MSE: 41717.98272231844\n",
            "RMSE: 204.24980470570452\n",
            "MAE: 147.24007207671468\n",
            "RMSLE: 0.08557018951471274\n",
            "R^2: 0.988773348246066\n",
            "Mean Residual Deviance: 41717.98272231844\n",
            "Null degrees of freedom: 574\n",
            "Residual degrees of freedom: 570\n",
            "Null deviance: 2136686929.5582597\n",
            "Residual deviance: 23987840.065333102\n",
            "AIC: 7761.024657409773\n",
            "\n",
            "ModelMetricsRegressionGLM: stackedensemble\n",
            "** Reported on cross-validation data. **\n",
            "\n",
            "MSE: 396565.9124902638\n",
            "RMSE: 629.7347953625111\n",
            "MAE: 437.54340566338504\n",
            "RMSLE: 0.23387644829977652\n",
            "R^2: 0.893280856204309\n",
            "Mean Residual Deviance: 396565.9124902638\n",
            "Null degrees of freedom: 574\n",
            "Residual degrees of freedom: 570\n",
            "Null deviance: 2145191465.164504\n",
            "Residual deviance: 228025399.6819017\n",
            "AIC: 9055.872899852746\n"
          ]
        },
        {
          "output_type": "execute_result",
          "data": {
            "text/plain": [
              ""
            ]
          },
          "metadata": {},
          "execution_count": 68
        }
      ]
    },
    {
      "cell_type": "markdown",
      "source": [
        "Seeing the Leaderboard"
      ],
      "metadata": {
        "id": "xzUNLdqgb2pa"
      }
    },
    {
      "cell_type": "code",
      "source": [
        "lb = aml.leaderboard"
      ],
      "metadata": {
        "id": "MZzNureGbH_p"
      },
      "execution_count": null,
      "outputs": []
    },
    {
      "cell_type": "code",
      "source": [
        "lb"
      ],
      "metadata": {
        "colab": {
          "base_uri": "https://localhost:8080/",
          "height": 254
        },
        "id": "FyWrfifHb5zt",
        "outputId": "ebb0845c-d947-4f4c-db39-4b5dee3b2891"
      },
      "execution_count": null,
      "outputs": [
        {
          "output_type": "display_data",
          "data": {
            "text/html": [
              "<table>\n",
              "<thead>\n",
              "<tr><th>model_id                                               </th><th style=\"text-align: right;\">  mean_residual_deviance</th><th style=\"text-align: right;\">   rmse</th><th style=\"text-align: right;\">   mse</th><th style=\"text-align: right;\">    mae</th><th style=\"text-align: right;\">   rmsle</th></tr>\n",
              "</thead>\n",
              "<tbody>\n",
              "<tr><td>StackedEnsemble_BestOfFamily_6_AutoML_1_20220315_114640</td><td style=\"text-align: right;\">                  396566</td><td style=\"text-align: right;\">629.735</td><td style=\"text-align: right;\">396566</td><td style=\"text-align: right;\">437.543</td><td style=\"text-align: right;\">0.233876</td></tr>\n",
              "<tr><td>StackedEnsemble_BestOfFamily_2_AutoML_1_20220315_114640</td><td style=\"text-align: right;\">                  397894</td><td style=\"text-align: right;\">630.789</td><td style=\"text-align: right;\">397894</td><td style=\"text-align: right;\">438.057</td><td style=\"text-align: right;\">0.234197</td></tr>\n",
              "<tr><td>StackedEnsemble_BestOfFamily_3_AutoML_1_20220315_114640</td><td style=\"text-align: right;\">                  397954</td><td style=\"text-align: right;\">630.836</td><td style=\"text-align: right;\">397954</td><td style=\"text-align: right;\">440.101</td><td style=\"text-align: right;\">0.23249 </td></tr>\n",
              "<tr><td>StackedEnsemble_AllModels_5_AutoML_1_20220315_114640   </td><td style=\"text-align: right;\">                  399025</td><td style=\"text-align: right;\">631.684</td><td style=\"text-align: right;\">399025</td><td style=\"text-align: right;\">440.696</td><td style=\"text-align: right;\">0.234255</td></tr>\n",
              "<tr><td>StackedEnsemble_AllModels_1_AutoML_1_20220315_114640   </td><td style=\"text-align: right;\">                  399450</td><td style=\"text-align: right;\">632.021</td><td style=\"text-align: right;\">399450</td><td style=\"text-align: right;\">442.117</td><td style=\"text-align: right;\">0.235155</td></tr>\n",
              "<tr><td>StackedEnsemble_AllModels_2_AutoML_1_20220315_114640   </td><td style=\"text-align: right;\">                  402826</td><td style=\"text-align: right;\">634.686</td><td style=\"text-align: right;\">402826</td><td style=\"text-align: right;\">441.598</td><td style=\"text-align: right;\">0.23635 </td></tr>\n",
              "<tr><td>GBM_3_AutoML_1_20220315_114640                         </td><td style=\"text-align: right;\">                  421172</td><td style=\"text-align: right;\">648.978</td><td style=\"text-align: right;\">421172</td><td style=\"text-align: right;\">448.15 </td><td style=\"text-align: right;\">0.245584</td></tr>\n",
              "<tr><td>GBM_2_AutoML_1_20220315_114640                         </td><td style=\"text-align: right;\">                  423485</td><td style=\"text-align: right;\">650.757</td><td style=\"text-align: right;\">423485</td><td style=\"text-align: right;\">447.877</td><td style=\"text-align: right;\">0.247078</td></tr>\n",
              "<tr><td>GBM_4_AutoML_1_20220315_114640                         </td><td style=\"text-align: right;\">                  442246</td><td style=\"text-align: right;\">665.016</td><td style=\"text-align: right;\">442246</td><td style=\"text-align: right;\">454.859</td><td style=\"text-align: right;\">0.251078</td></tr>\n",
              "<tr><td>XGBoost_2_AutoML_1_20220315_114640                     </td><td style=\"text-align: right;\">                  443270</td><td style=\"text-align: right;\">665.785</td><td style=\"text-align: right;\">443270</td><td style=\"text-align: right;\">473.075</td><td style=\"text-align: right;\">0.233146</td></tr>\n",
              "</tbody>\n",
              "</table>"
            ]
          },
          "metadata": {}
        },
        {
          "output_type": "execute_result",
          "data": {
            "text/plain": [
              ""
            ]
          },
          "metadata": {},
          "execution_count": 70
        }
      ]
    },
    {
      "cell_type": "code",
      "source": [
        ""
      ],
      "metadata": {
        "id": "waMlxhlQb9qe"
      },
      "execution_count": null,
      "outputs": []
    },
    {
      "cell_type": "markdown",
      "source": [
        "Getting all the model ids"
      ],
      "metadata": {
        "id": "hQDdfb85cJhW"
      }
    },
    {
      "cell_type": "code",
      "source": [
        "model_ids = list(aml.leaderboard['model_id'].as_data_frame().iloc[:,0])"
      ],
      "metadata": {
        "id": "iSNfxGe4cKbM"
      },
      "execution_count": null,
      "outputs": []
    },
    {
      "cell_type": "code",
      "source": [
        "model_ids"
      ],
      "metadata": {
        "colab": {
          "base_uri": "https://localhost:8080/"
        },
        "id": "ftRK7hlfcOMj",
        "outputId": "0bdd7986-784c-4ec9-fe4b-37fdc5451719"
      },
      "execution_count": null,
      "outputs": [
        {
          "output_type": "execute_result",
          "data": {
            "text/plain": [
              "['StackedEnsemble_BestOfFamily_6_AutoML_1_20220315_114640',\n",
              " 'StackedEnsemble_BestOfFamily_2_AutoML_1_20220315_114640',\n",
              " 'StackedEnsemble_BestOfFamily_3_AutoML_1_20220315_114640',\n",
              " 'StackedEnsemble_AllModels_5_AutoML_1_20220315_114640',\n",
              " 'StackedEnsemble_AllModels_1_AutoML_1_20220315_114640',\n",
              " 'StackedEnsemble_AllModels_2_AutoML_1_20220315_114640',\n",
              " 'GBM_3_AutoML_1_20220315_114640',\n",
              " 'GBM_2_AutoML_1_20220315_114640',\n",
              " 'GBM_4_AutoML_1_20220315_114640',\n",
              " 'XGBoost_2_AutoML_1_20220315_114640',\n",
              " 'StackedEnsemble_AllModels_4_AutoML_1_20220315_114640',\n",
              " 'DRF_1_AutoML_1_20220315_114640',\n",
              " 'XRT_1_AutoML_1_20220315_114640',\n",
              " 'StackedEnsemble_BestOfFamily_5_AutoML_1_20220315_114640',\n",
              " 'XGBoost_3_AutoML_1_20220315_114640',\n",
              " 'StackedEnsemble_BestOfFamily_1_AutoML_1_20220315_114640',\n",
              " 'XGBoost_1_AutoML_1_20220315_114640',\n",
              " 'StackedEnsemble_BestOfFamily_4_AutoML_1_20220315_114640',\n",
              " 'StackedEnsemble_AllModels_3_AutoML_1_20220315_114640',\n",
              " 'GBM_1_AutoML_1_20220315_114640',\n",
              " 'GLM_1_AutoML_1_20220315_114640']"
            ]
          },
          "metadata": {},
          "execution_count": 72
        }
      ]
    },
    {
      "cell_type": "code",
      "source": [
        "aml.leader.model_performance(df_test)"
      ],
      "metadata": {
        "colab": {
          "base_uri": "https://localhost:8080/"
        },
        "id": "I3Oz8sW9cSYX",
        "outputId": "2a871e59-0dfc-4071-8648-53d55192687f"
      },
      "execution_count": null,
      "outputs": [
        {
          "output_type": "stream",
          "name": "stdout",
          "text": [
            "\n",
            "ModelMetricsRegressionGLM: stackedensemble\n",
            "** Reported on test data. **\n",
            "\n",
            "MSE: 440568.81425697537\n",
            "RMSE: 663.7535794682959\n",
            "MAE: 432.82461399558935\n",
            "RMSLE: 0.4540744338099434\n",
            "R^2: 0.8850528094325861\n",
            "Mean Residual Deviance: 440568.81425697537\n",
            "Null degrees of freedom: 155\n",
            "Residual degrees of freedom: 151\n",
            "Null deviance: 604186730.3302801\n",
            "Residual deviance: 68728735.02408816\n",
            "AIC: 2482.057043545168\n"
          ]
        },
        {
          "output_type": "execute_result",
          "data": {
            "text/plain": [
              ""
            ]
          },
          "metadata": {},
          "execution_count": 73
        }
      ]
    },
    {
      "cell_type": "markdown",
      "source": [
        "Getting the model details for best performing model"
      ],
      "metadata": {
        "id": "CA7i29F-ccEp"
      }
    },
    {
      "cell_type": "code",
      "source": [
        "h2o.get_model([mid for mid in model_ids if \"StackedEnsemble\" in mid][0])"
      ],
      "metadata": {
        "colab": {
          "base_uri": "https://localhost:8080/"
        },
        "id": "jCcuDuTwcWP2",
        "outputId": "a7e7780a-0243-4e26-acdd-c218fa616495"
      },
      "execution_count": null,
      "outputs": [
        {
          "output_type": "stream",
          "name": "stdout",
          "text": [
            "Model Details\n",
            "=============\n",
            "H2OStackedEnsembleEstimator :  Stacked Ensemble\n",
            "Model Key:  StackedEnsemble_BestOfFamily_6_AutoML_1_20220315_114640\n",
            "\n",
            "No model summary for this model\n",
            "\n",
            "ModelMetricsRegressionGLM: stackedensemble\n",
            "** Reported on train data. **\n",
            "\n",
            "MSE: 41717.98272231844\n",
            "RMSE: 204.24980470570452\n",
            "MAE: 147.24007207671468\n",
            "RMSLE: 0.08557018951471274\n",
            "R^2: 0.988773348246066\n",
            "Mean Residual Deviance: 41717.98272231844\n",
            "Null degrees of freedom: 574\n",
            "Residual degrees of freedom: 570\n",
            "Null deviance: 2136686929.5582597\n",
            "Residual deviance: 23987840.065333102\n",
            "AIC: 7761.024657409773\n",
            "\n",
            "ModelMetricsRegressionGLM: stackedensemble\n",
            "** Reported on cross-validation data. **\n",
            "\n",
            "MSE: 396565.9124902638\n",
            "RMSE: 629.7347953625111\n",
            "MAE: 437.54340566338504\n",
            "RMSLE: 0.23387644829977652\n",
            "R^2: 0.893280856204309\n",
            "Mean Residual Deviance: 396565.9124902638\n",
            "Null degrees of freedom: 574\n",
            "Residual degrees of freedom: 570\n",
            "Null deviance: 2145191465.164504\n",
            "Residual deviance: 228025399.6819017\n",
            "AIC: 9055.872899852746\n"
          ]
        },
        {
          "output_type": "execute_result",
          "data": {
            "text/plain": [
              ""
            ]
          },
          "metadata": {},
          "execution_count": 74
        }
      ]
    },
    {
      "cell_type": "code",
      "source": [
        "output= h2o.get_model([mid for mid in model_ids if \"StackedEnsemble\" in mid][0])\n",
        "output.params"
      ],
      "metadata": {
        "colab": {
          "base_uri": "https://localhost:8080/"
        },
        "id": "ILQ0jxCNchSy",
        "outputId": "82c7e107-32ac-4802-e6a7-c9dfa383a8d4"
      },
      "execution_count": null,
      "outputs": [
        {
          "output_type": "execute_result",
          "data": {
            "text/plain": [
              "{'auc_type': {'actual': 'AUTO', 'default': 'AUTO', 'input': 'AUTO'},\n",
              " 'base_models': {'actual': [{'URL': None,\n",
              "    '__meta': {'schema_name': 'KeyV3',\n",
              "     'schema_type': 'Key<Keyed>',\n",
              "     'schema_version': 3},\n",
              "    'name': 'GBM_3_AutoML_1_20220315_114640',\n",
              "    'type': 'Key<Keyed>'},\n",
              "   {'URL': None,\n",
              "    '__meta': {'schema_name': 'KeyV3',\n",
              "     'schema_type': 'Key<Keyed>',\n",
              "     'schema_version': 3},\n",
              "    'name': 'XGBoost_2_AutoML_1_20220315_114640',\n",
              "    'type': 'Key<Keyed>'},\n",
              "   {'URL': None,\n",
              "    '__meta': {'schema_name': 'KeyV3',\n",
              "     'schema_type': 'Key<Keyed>',\n",
              "     'schema_version': 3},\n",
              "    'name': 'DRF_1_AutoML_1_20220315_114640',\n",
              "    'type': 'Key<Keyed>'},\n",
              "   {'URL': None,\n",
              "    '__meta': {'schema_name': 'KeyV3',\n",
              "     'schema_type': 'Key<Keyed>',\n",
              "     'schema_version': 3},\n",
              "    'name': 'XRT_1_AutoML_1_20220315_114640',\n",
              "    'type': 'Key<Keyed>'},\n",
              "   {'URL': None,\n",
              "    '__meta': {'schema_name': 'KeyV3',\n",
              "     'schema_type': 'Key<Keyed>',\n",
              "     'schema_version': 3},\n",
              "    'name': 'GLM_1_AutoML_1_20220315_114640',\n",
              "    'type': 'Key<Keyed>'}],\n",
              "  'default': [],\n",
              "  'input': [{'URL': None,\n",
              "    '__meta': {'schema_name': 'KeyV3',\n",
              "     'schema_type': 'Key<Keyed>',\n",
              "     'schema_version': 3},\n",
              "    'name': 'GBM_3_AutoML_1_20220315_114640',\n",
              "    'type': 'Key<Keyed>'},\n",
              "   {'URL': None,\n",
              "    '__meta': {'schema_name': 'KeyV3',\n",
              "     'schema_type': 'Key<Keyed>',\n",
              "     'schema_version': 3},\n",
              "    'name': 'XGBoost_2_AutoML_1_20220315_114640',\n",
              "    'type': 'Key<Keyed>'},\n",
              "   {'URL': None,\n",
              "    '__meta': {'schema_name': 'KeyV3',\n",
              "     'schema_type': 'Key<Keyed>',\n",
              "     'schema_version': 3},\n",
              "    'name': 'DRF_1_AutoML_1_20220315_114640',\n",
              "    'type': 'Key<Keyed>'},\n",
              "   {'URL': None,\n",
              "    '__meta': {'schema_name': 'KeyV3',\n",
              "     'schema_type': 'Key<Keyed>',\n",
              "     'schema_version': 3},\n",
              "    'name': 'XRT_1_AutoML_1_20220315_114640',\n",
              "    'type': 'Key<Keyed>'},\n",
              "   {'URL': None,\n",
              "    '__meta': {'schema_name': 'KeyV3',\n",
              "     'schema_type': 'Key<Keyed>',\n",
              "     'schema_version': 3},\n",
              "    'name': 'GLM_1_AutoML_1_20220315_114640',\n",
              "    'type': 'Key<Keyed>'}]},\n",
              " 'blending_frame': {'actual': None, 'default': None, 'input': None},\n",
              " 'export_checkpoints_dir': {'actual': None, 'default': None, 'input': None},\n",
              " 'keep_levelone_frame': {'actual': True, 'default': False, 'input': True},\n",
              " 'max_runtime_secs': {'actual': 134.8225, 'default': 0.0, 'input': 134.8225},\n",
              " 'metalearner_algorithm': {'actual': 'glm',\n",
              "  'default': 'AUTO',\n",
              "  'input': 'AUTO'},\n",
              " 'metalearner_fold_assignment': {'actual': None,\n",
              "  'default': None,\n",
              "  'input': None},\n",
              " 'metalearner_fold_column': {'actual': None, 'default': None, 'input': None},\n",
              " 'metalearner_nfolds': {'actual': 2, 'default': 0, 'input': 2},\n",
              " 'metalearner_params': {'actual': '', 'default': '', 'input': ''},\n",
              " 'metalearner_transform': {'actual': 'NONE',\n",
              "  'default': 'NONE',\n",
              "  'input': 'NONE'},\n",
              " 'model_id': {'actual': {'URL': '/3/Models/StackedEnsemble_BestOfFamily_6_AutoML_1_20220315_114640',\n",
              "   '__meta': {'schema_name': 'ModelKeyV3',\n",
              "    'schema_type': 'Key<Model>',\n",
              "    'schema_version': 3},\n",
              "   'name': 'StackedEnsemble_BestOfFamily_6_AutoML_1_20220315_114640',\n",
              "   'type': 'Key<Model>'},\n",
              "  'default': None,\n",
              "  'input': None},\n",
              " 'offset_column': {'actual': None, 'default': None, 'input': None},\n",
              " 'response_column': {'actual': {'__meta': {'schema_name': 'ColSpecifierV3',\n",
              "    'schema_type': 'VecSpecifier',\n",
              "    'schema_version': 3},\n",
              "   'column_name': 'cnt',\n",
              "   'is_member_of_frames': None},\n",
              "  'default': None,\n",
              "  'input': {'__meta': {'schema_name': 'ColSpecifierV3',\n",
              "    'schema_type': 'VecSpecifier',\n",
              "    'schema_version': 3},\n",
              "   'column_name': 'cnt',\n",
              "   'is_member_of_frames': None}},\n",
              " 'score_training_samples': {'actual': 10000, 'default': 10000, 'input': 10000},\n",
              " 'seed': {'actual': 29, 'default': -1, 'input': 29},\n",
              " 'training_frame': {'actual': {'URL': '/3/Frames/AutoML_1_20220315_114640_training_py_3_sid_95d6',\n",
              "   '__meta': {'schema_name': 'FrameKeyV3',\n",
              "    'schema_type': 'Key<Frame>',\n",
              "    'schema_version': 3},\n",
              "   'name': 'AutoML_1_20220315_114640_training_py_3_sid_95d6',\n",
              "   'type': 'Key<Frame>'},\n",
              "  'default': None,\n",
              "  'input': {'URL': '/3/Frames/AutoML_1_20220315_114640_training_py_3_sid_95d6',\n",
              "   '__meta': {'schema_name': 'FrameKeyV3',\n",
              "    'schema_type': 'Key<Frame>',\n",
              "    'schema_version': 3},\n",
              "   'name': 'AutoML_1_20220315_114640_training_py_3_sid_95d6',\n",
              "   'type': 'Key<Frame>'}},\n",
              " 'validation_frame': {'actual': None, 'default': None, 'input': None},\n",
              " 'weights_column': {'actual': None, 'default': None, 'input': None}}"
            ]
          },
          "metadata": {},
          "execution_count": 75
        }
      ]
    },
    {
      "cell_type": "code",
      "source": [
        "aml.leader"
      ],
      "metadata": {
        "colab": {
          "base_uri": "https://localhost:8080/"
        },
        "id": "cZtUuiPIcoaC",
        "outputId": "6c4d66db-cc16-4ee4-be2d-10966236f442"
      },
      "execution_count": null,
      "outputs": [
        {
          "output_type": "stream",
          "name": "stdout",
          "text": [
            "Model Details\n",
            "=============\n",
            "H2OStackedEnsembleEstimator :  Stacked Ensemble\n",
            "Model Key:  StackedEnsemble_BestOfFamily_6_AutoML_1_20220315_114640\n",
            "\n",
            "No model summary for this model\n",
            "\n",
            "ModelMetricsRegressionGLM: stackedensemble\n",
            "** Reported on train data. **\n",
            "\n",
            "MSE: 41717.98272231844\n",
            "RMSE: 204.24980470570452\n",
            "MAE: 147.24007207671468\n",
            "RMSLE: 0.08557018951471274\n",
            "R^2: 0.988773348246066\n",
            "Mean Residual Deviance: 41717.98272231844\n",
            "Null degrees of freedom: 574\n",
            "Residual degrees of freedom: 570\n",
            "Null deviance: 2136686929.5582597\n",
            "Residual deviance: 23987840.065333102\n",
            "AIC: 7761.024657409773\n",
            "\n",
            "ModelMetricsRegressionGLM: stackedensemble\n",
            "** Reported on cross-validation data. **\n",
            "\n",
            "MSE: 396565.9124902638\n",
            "RMSE: 629.7347953625111\n",
            "MAE: 437.54340566338504\n",
            "RMSLE: 0.23387644829977652\n",
            "R^2: 0.893280856204309\n",
            "Mean Residual Deviance: 396565.9124902638\n",
            "Null degrees of freedom: 574\n",
            "Residual degrees of freedom: 570\n",
            "Null deviance: 2145191465.164504\n",
            "Residual deviance: 228025399.6819017\n",
            "AIC: 9055.872899852746\n"
          ]
        },
        {
          "output_type": "execute_result",
          "data": {
            "text/plain": [
              ""
            ]
          },
          "metadata": {},
          "execution_count": 76
        }
      ]
    },
    {
      "cell_type": "code",
      "source": [
        "y_pred=aml.leader.predict(df_test)"
      ],
      "metadata": {
        "colab": {
          "base_uri": "https://localhost:8080/"
        },
        "id": "Ocl77vUIcsUP",
        "outputId": "81290450-10d0-4b2a-bc6c-a22d9de29ce5"
      },
      "execution_count": null,
      "outputs": [
        {
          "output_type": "stream",
          "name": "stdout",
          "text": [
            "stackedensemble prediction progress: |███████████████████████████████████████████| (done) 100%\n"
          ]
        }
      ]
    },
    {
      "cell_type": "code",
      "source": [
        "y_pred"
      ],
      "metadata": {
        "colab": {
          "base_uri": "https://localhost:8080/",
          "height": 254
        },
        "id": "ZKwBlSiNcwGF",
        "outputId": "c0c64100-b356-4c43-9e70-c4dcea59ea7a"
      },
      "execution_count": null,
      "outputs": [
        {
          "output_type": "display_data",
          "data": {
            "text/html": [
              "<table>\n",
              "<thead>\n",
              "<tr><th style=\"text-align: right;\">  predict</th></tr>\n",
              "</thead>\n",
              "<tbody>\n",
              "<tr><td style=\"text-align: right;\">  1522.46</td></tr>\n",
              "<tr><td style=\"text-align: right;\">  1330.57</td></tr>\n",
              "<tr><td style=\"text-align: right;\">  1302.1 </td></tr>\n",
              "<tr><td style=\"text-align: right;\">  1146.27</td></tr>\n",
              "<tr><td style=\"text-align: right;\">  1211.83</td></tr>\n",
              "<tr><td style=\"text-align: right;\">  1519.8 </td></tr>\n",
              "<tr><td style=\"text-align: right;\">  1462.27</td></tr>\n",
              "<tr><td style=\"text-align: right;\">   918.66</td></tr>\n",
              "<tr><td style=\"text-align: right;\">  1239.05</td></tr>\n",
              "<tr><td style=\"text-align: right;\">  1436.52</td></tr>\n",
              "</tbody>\n",
              "</table>"
            ]
          },
          "metadata": {}
        },
        {
          "output_type": "execute_result",
          "data": {
            "text/plain": [
              ""
            ]
          },
          "metadata": {},
          "execution_count": 78
        }
      ]
    },
    {
      "cell_type": "code",
      "source": [
        ""
      ],
      "metadata": {
        "id": "1PZyfGBOczZK"
      },
      "execution_count": null,
      "outputs": []
    }
  ]
}